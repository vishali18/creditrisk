{
  "nbformat": 4,
  "nbformat_minor": 0,
  "metadata": {
    "colab": {
      "name": "221003109.ipynb",
      "provenance": [],
      "collapsed_sections": []
    },
    "kernelspec": {
      "display_name": "Python 3",
      "name": "python3"
    }
  },
  "cells": [
    {
      "cell_type": "code",
      "metadata": {
        "id": "KOmoSKWDqRCi"
      },
      "source": [
        "import pandas as pd\r\n",
        "import numpy as np\r\n",
        "\r\n",
        "from sklearn.model_selection import KFold\r\n",
        "from sklearn.linear_model import LogisticRegression\r\n",
        "from sklearn.model_selection import cross_val_predict\r\n",
        "from sklearn.ensemble import RandomForestClassifier\r\n",
        "from sklearn.model_selection import train_test_split\r\n",
        "from sklearn.preprocessing import StandardScaler\r\n",
        "from sklearn.tree import DecisionTreeClassifier\r\n",
        "from sklearn.metrics import accuracy_score, confusion_matrix, classification_report\r\n",
        "from sklearn import svm\r\n",
        "from sklearn.pipeline import Pipeline\r\n",
        "from sklearn.metrics import recall_score\r\n",
        "from scipy import stats \r\n",
        "import statsmodels.api as sm\r\n",
        "from statsmodels.formula.api import ols\r\n",
        "from sklearn.decomposition import PCA\r\n",
        "import matplotlib.pyplot as plt\r\n",
        "import warnings\r\n",
        "\r\n",
        "import itertools\r\n",
        "\r\n",
        "from imblearn.over_sampling import SMOTE\r\n",
        "\r\n",
        "%matplotlib inline\r\n",
        "warnings.filterwarnings('ignore')"
      ],
      "execution_count": null,
      "outputs": []
    },
    {
      "cell_type": "code",
      "metadata": {
        "id": "Z2bYJp8OrobI"
      },
      "source": [
        "def plot_confusion_matrix(cm, classes,\r\n",
        "                          normalize=False,\r\n",
        "                          title='Confusion matrix',\r\n",
        "                          cmap=plt.cm.Blues):\r\n",
        "    #Add Normalization Option\r\n",
        "    if normalize:\r\n",
        "        cm = cm.astype('float') / cm.sum(axis=1)[:, np.newaxis]\r\n",
        "        print(\"Normalized confusion matrix\")\r\n",
        "    else:\r\n",
        "        print('Confusion matrix, without normalization')\r\n",
        "\r\n",
        "    print(cm)\r\n",
        "    plt.imshow(cm, interpolation='nearest', cmap=cmap)\r\n",
        "    plt.title(title)\r\n",
        "    plt.colorbar()\r\n",
        "    tick_marks = np.arange(len(classes))\r\n",
        "    plt.xticks(tick_marks, classes, rotation=45)\r\n",
        "    plt.yticks(tick_marks, classes)\r\n",
        "\r\n",
        "    fmt = '.2f' if normalize else 'd'\r\n",
        "    thresh = cm.max() / 2.\r\n",
        "    for i, j in itertools.product(range(cm.shape[0]), range(cm.shape[1])):\r\n",
        "        plt.text(j, i, format(cm[i, j], fmt),\r\n",
        "                 horizontalalignment=\"center\",\r\n",
        "                 color=\"white\" if cm[i, j] > thresh else \"black\")\r\n",
        "\r\n",
        "    plt.tight_layout()\r\n",
        "    plt.ylabel('True label')\r\n",
        "    plt.xlabel('Predicted label')\r\n",
        "\r\n",
        "\r\n",
        "    \r\n"
      ],
      "execution_count": null,
      "outputs": []
    },
    {
      "cell_type": "code",
      "metadata": {
        "id": "zLFRYgBNrwLp"
      },
      "source": [
        "#Plot Feature inportance\r\n",
        "#---------------------------------------------------------------------------------------\r\n",
        "def plot_feature_importances(model,X_train):\r\n",
        "    \r\n",
        "    xaxes=list(X_train.columns.values)\r\n",
        "    yaxes=list(model.feature_importances_)\r\n",
        "    \r\n",
        "    h=dict(zip(xaxes,yaxes))\r\n",
        "    s = [(k, h[k]) for k in sorted(h, key=h.get, reverse=False)]\r\n",
        "    s=dict(s)\r\n",
        "    xaxes=list(s.keys())\r\n",
        "    yaxes=list(s.values())\r\n",
        "    \r\n",
        "    n_features = X_train.shape[1]\r\n",
        "    plt.figure(figsize=(8,8))\r\n",
        "    plt.barh(range(n_features), yaxes, align='center') \r\n",
        "    plt.yticks(np.arange(n_features), xaxes) \r\n",
        "    plt.xlabel(\"Feature importance\")\r\n",
        "    plt.ylabel(\"Feature\")\r\n"
      ],
      "execution_count": null,
      "outputs": []
    },
    {
      "cell_type": "code",
      "metadata": {
        "id": "FoLacme5r4B9"
      },
      "source": [
        "def rocurve(logreg, X_train, X_test, y_train, y_test):\r\n",
        "    \r\n",
        "    from sklearn.metrics import roc_curve, auc\r\n",
        "    import matplotlib.pyplot as plt\r\n",
        "    import seaborn as sns\r\n",
        "    %matplotlib inline\r\n",
        "    \r\n",
        "    y_test_score = logreg.decision_function(X_test)\r\n",
        "    y_train_score = logreg.decision_function(X_train)\r\n",
        "\r\n",
        "    test_fpr, test_tpr, test_thresholds = roc_curve(y_test, y_test_score)\r\n",
        "    train_fpr, train_tpr, train_thresholds = roc_curve(y_train, y_train_score)\r\n",
        "\r\n",
        "    print('Test AUC: {}'.format(auc(test_fpr, test_tpr)))\r\n",
        "    print('train AUC: {}'.format(auc(train_fpr, train_tpr)))\r\n",
        "\r\n",
        "    plt.figure(figsize=(10,8))\r\n",
        "    lw = 2\r\n",
        "    plt.plot(test_fpr, test_tpr, color='darkorange',\r\n",
        "             lw=lw, label='Test ROC curve')\r\n",
        "    plt.plot(train_fpr, train_tpr, color='blue',\r\n",
        "             lw=lw, label='train ROC curve')\r\n",
        "    plt.plot([0, 1], [0, 1], color='navy', lw=lw, linestyle='--')\r\n",
        "    plt.xlim([0.0, 1.0])\r\n",
        "    plt.ylim([0.0, 1.05])\r\n",
        "    plt.yticks([i/20.0 for i in range(21)])\r\n",
        "    plt.xticks([i/20.0 for i in range(21)])\r\n",
        "    plt.xlabel('False Positive Rate')\r\n",
        "    plt.ylabel('True Positive Rate')\r\n",
        "    plt.title('Receiver operating characteristic (ROC) Curve')\r\n",
        "    plt.legend(loc=\"lower right\")\r\n",
        "    plt.show()"
      ],
      "execution_count": null,
      "outputs": []
    },
    {
      "cell_type": "code",
      "metadata": {
        "id": "y_BtUaZpsKza"
      },
      "source": [
        "#Determining the number of dimensions to preserve given level of variance\r\n",
        "#---------------------------------------------------------------------------------------------------------------------------\r\n",
        "def find_min_pca(X_train, percentage=0.8):\r\n",
        "    \r\n",
        "    from sklearn.decomposition import PCA\r\n",
        "    \r\n",
        "    \r\n",
        "    inital_components=pd.DataFrame(X_train).shape[1]\r\n",
        "    if inital_components<10:\r\n",
        "        print('The Data has less than 10 components, no PCA needed')\r\n",
        "    else:\r\n",
        "        a=int(str(inital_components)[-1])\r\n",
        "        tens=int((inital_components-a)/10)\r\n",
        "        for i in range(1,tens+1):\r\n",
        "        \r\n",
        "            \r\n",
        "            \r\n",
        "            pca = PCA(n_components=(i)*10)\r\n",
        "            principalComponents = pca.fit_transform(X_train)\r\n",
        "            explained_var= np.sum(pca.explained_variance_ratio_)\r\n",
        "        \r\n",
        "            \r\n",
        "            \r\n",
        "            if explained_var>=percentage:\r\n",
        "                upper=i\r\n",
        "                break\r\n",
        "        \r\n",
        "        \r\n",
        "\r\n",
        "        for j in range((upper-1)*10,(upper)*10):\r\n",
        "            pca = PCA(n_components=j)\r\n",
        "            principalComponents = pca.fit_transform(X_train)                \r\n",
        "            explained_var1= np.sum(pca.explained_variance_ratio_)\r\n",
        "            if explained_var1>percentage:\r\n",
        "                comp=j\r\n",
        "                break\r\n",
        "                    \r\n",
        "                        \r\n",
        "            \r\n",
        "            \r\n",
        "    return  comp\r\n"
      ],
      "execution_count": null,
      "outputs": []
    },
    {
      "cell_type": "code",
      "metadata": {
        "id": "E_aTSKSssV9P"
      },
      "source": [
        "#Determine FPR and TPR of a model\r\n",
        "#---------------------------------------------------------------------------------------------------------------\r\n",
        "def perf(y_test, y_pred):\r\n",
        "    from sklearn.metrics import confusion_matrix\r\n",
        "    tn, fp, fn, tp = confusion_matrix(y_test, y_pred).ravel()\r\n",
        "    fpr = round(fp  / (fp + tn),2)*100\r\n",
        "    tpr= round(tp / (tp+fn),2)*100\r\n",
        "    \r\n",
        "    return(print(tpr,'% of the positives are appropriately identified, and ',fpr,'% of the negatives are appropriately identified.'))"
      ],
      "execution_count": null,
      "outputs": []
    },
    {
      "cell_type": "code",
      "metadata": {
        "colab": {
          "base_uri": "https://localhost:8080/",
          "height": 357
        },
        "id": "6vVyWDgpsW-h",
        "outputId": "c238e47e-98f7-40e8-8716-3df77d8b47e2"
      },
      "source": [
        "data = pd.read_csv('/content/loans_2007.csv')\r\n",
        "data.head()"
      ],
      "execution_count": null,
      "outputs": [
        {
          "output_type": "execute_result",
          "data": {
            "text/html": [
              "<div>\n",
              "<style scoped>\n",
              "    .dataframe tbody tr th:only-of-type {\n",
              "        vertical-align: middle;\n",
              "    }\n",
              "\n",
              "    .dataframe tbody tr th {\n",
              "        vertical-align: top;\n",
              "    }\n",
              "\n",
              "    .dataframe thead th {\n",
              "        text-align: right;\n",
              "    }\n",
              "</style>\n",
              "<table border=\"1\" class=\"dataframe\">\n",
              "  <thead>\n",
              "    <tr style=\"text-align: right;\">\n",
              "      <th></th>\n",
              "      <th>id</th>\n",
              "      <th>member_id</th>\n",
              "      <th>loan_amnt</th>\n",
              "      <th>funded_amnt</th>\n",
              "      <th>funded_amnt_inv</th>\n",
              "      <th>term</th>\n",
              "      <th>int_rate</th>\n",
              "      <th>installment</th>\n",
              "      <th>grade</th>\n",
              "      <th>sub_grade</th>\n",
              "      <th>emp_title</th>\n",
              "      <th>emp_length</th>\n",
              "      <th>home_ownership</th>\n",
              "      <th>annual_inc</th>\n",
              "      <th>verification_status</th>\n",
              "      <th>issue_d</th>\n",
              "      <th>loan_status</th>\n",
              "      <th>pymnt_plan</th>\n",
              "      <th>purpose</th>\n",
              "      <th>title</th>\n",
              "      <th>zip_code</th>\n",
              "      <th>addr_state</th>\n",
              "      <th>dti</th>\n",
              "      <th>delinq_2yrs</th>\n",
              "      <th>earliest_cr_line</th>\n",
              "      <th>inq_last_6mths</th>\n",
              "      <th>open_acc</th>\n",
              "      <th>pub_rec</th>\n",
              "      <th>revol_bal</th>\n",
              "      <th>revol_util</th>\n",
              "      <th>total_acc</th>\n",
              "      <th>initial_list_status</th>\n",
              "      <th>out_prncp</th>\n",
              "      <th>out_prncp_inv</th>\n",
              "      <th>total_pymnt</th>\n",
              "      <th>total_pymnt_inv</th>\n",
              "      <th>total_rec_prncp</th>\n",
              "      <th>total_rec_int</th>\n",
              "      <th>total_rec_late_fee</th>\n",
              "      <th>recoveries</th>\n",
              "      <th>collection_recovery_fee</th>\n",
              "      <th>last_pymnt_d</th>\n",
              "      <th>last_pymnt_amnt</th>\n",
              "      <th>last_credit_pull_d</th>\n",
              "      <th>collections_12_mths_ex_med</th>\n",
              "      <th>policy_code</th>\n",
              "      <th>application_type</th>\n",
              "      <th>acc_now_delinq</th>\n",
              "      <th>chargeoff_within_12_mths</th>\n",
              "      <th>delinq_amnt</th>\n",
              "      <th>pub_rec_bankruptcies</th>\n",
              "      <th>tax_liens</th>\n",
              "    </tr>\n",
              "  </thead>\n",
              "  <tbody>\n",
              "    <tr>\n",
              "      <th>0</th>\n",
              "      <td>1077501</td>\n",
              "      <td>1296599.0</td>\n",
              "      <td>5000.0</td>\n",
              "      <td>5000.0</td>\n",
              "      <td>4975.0</td>\n",
              "      <td>36 months</td>\n",
              "      <td>10.65%</td>\n",
              "      <td>162.87</td>\n",
              "      <td>B</td>\n",
              "      <td>B2</td>\n",
              "      <td>NaN</td>\n",
              "      <td>10+ years</td>\n",
              "      <td>RENT</td>\n",
              "      <td>24000.0</td>\n",
              "      <td>Verified</td>\n",
              "      <td>Dec-2011</td>\n",
              "      <td>Fully Paid</td>\n",
              "      <td>n</td>\n",
              "      <td>credit_card</td>\n",
              "      <td>Computer</td>\n",
              "      <td>860xx</td>\n",
              "      <td>AZ</td>\n",
              "      <td>27.65</td>\n",
              "      <td>0.0</td>\n",
              "      <td>Jan-1985</td>\n",
              "      <td>1.0</td>\n",
              "      <td>3.0</td>\n",
              "      <td>0.0</td>\n",
              "      <td>13648.0</td>\n",
              "      <td>83.7%</td>\n",
              "      <td>9.0</td>\n",
              "      <td>f</td>\n",
              "      <td>0.00</td>\n",
              "      <td>0.00</td>\n",
              "      <td>5863.155187</td>\n",
              "      <td>5833.84</td>\n",
              "      <td>5000.00</td>\n",
              "      <td>863.16</td>\n",
              "      <td>0.00</td>\n",
              "      <td>0.00</td>\n",
              "      <td>0.00</td>\n",
              "      <td>Jan-2015</td>\n",
              "      <td>171.62</td>\n",
              "      <td>Jun-2016</td>\n",
              "      <td>0.0</td>\n",
              "      <td>1.0</td>\n",
              "      <td>INDIVIDUAL</td>\n",
              "      <td>0.0</td>\n",
              "      <td>0.0</td>\n",
              "      <td>0.0</td>\n",
              "      <td>0.0</td>\n",
              "      <td>0.0</td>\n",
              "    </tr>\n",
              "    <tr>\n",
              "      <th>1</th>\n",
              "      <td>1077430</td>\n",
              "      <td>1314167.0</td>\n",
              "      <td>2500.0</td>\n",
              "      <td>2500.0</td>\n",
              "      <td>2500.0</td>\n",
              "      <td>60 months</td>\n",
              "      <td>15.27%</td>\n",
              "      <td>59.83</td>\n",
              "      <td>C</td>\n",
              "      <td>C4</td>\n",
              "      <td>Ryder</td>\n",
              "      <td>&lt; 1 year</td>\n",
              "      <td>RENT</td>\n",
              "      <td>30000.0</td>\n",
              "      <td>Source Verified</td>\n",
              "      <td>Dec-2011</td>\n",
              "      <td>Charged Off</td>\n",
              "      <td>n</td>\n",
              "      <td>car</td>\n",
              "      <td>bike</td>\n",
              "      <td>309xx</td>\n",
              "      <td>GA</td>\n",
              "      <td>1.00</td>\n",
              "      <td>0.0</td>\n",
              "      <td>Apr-1999</td>\n",
              "      <td>5.0</td>\n",
              "      <td>3.0</td>\n",
              "      <td>0.0</td>\n",
              "      <td>1687.0</td>\n",
              "      <td>9.4%</td>\n",
              "      <td>4.0</td>\n",
              "      <td>f</td>\n",
              "      <td>0.00</td>\n",
              "      <td>0.00</td>\n",
              "      <td>1008.710000</td>\n",
              "      <td>1008.71</td>\n",
              "      <td>456.46</td>\n",
              "      <td>435.17</td>\n",
              "      <td>0.00</td>\n",
              "      <td>117.08</td>\n",
              "      <td>1.11</td>\n",
              "      <td>Apr-2013</td>\n",
              "      <td>119.66</td>\n",
              "      <td>Sep-2013</td>\n",
              "      <td>0.0</td>\n",
              "      <td>1.0</td>\n",
              "      <td>INDIVIDUAL</td>\n",
              "      <td>0.0</td>\n",
              "      <td>0.0</td>\n",
              "      <td>0.0</td>\n",
              "      <td>0.0</td>\n",
              "      <td>0.0</td>\n",
              "    </tr>\n",
              "    <tr>\n",
              "      <th>2</th>\n",
              "      <td>1077175</td>\n",
              "      <td>1313524.0</td>\n",
              "      <td>2400.0</td>\n",
              "      <td>2400.0</td>\n",
              "      <td>2400.0</td>\n",
              "      <td>36 months</td>\n",
              "      <td>15.96%</td>\n",
              "      <td>84.33</td>\n",
              "      <td>C</td>\n",
              "      <td>C5</td>\n",
              "      <td>NaN</td>\n",
              "      <td>10+ years</td>\n",
              "      <td>RENT</td>\n",
              "      <td>12252.0</td>\n",
              "      <td>Not Verified</td>\n",
              "      <td>Dec-2011</td>\n",
              "      <td>Fully Paid</td>\n",
              "      <td>n</td>\n",
              "      <td>small_business</td>\n",
              "      <td>real estate business</td>\n",
              "      <td>606xx</td>\n",
              "      <td>IL</td>\n",
              "      <td>8.72</td>\n",
              "      <td>0.0</td>\n",
              "      <td>Nov-2001</td>\n",
              "      <td>2.0</td>\n",
              "      <td>2.0</td>\n",
              "      <td>0.0</td>\n",
              "      <td>2956.0</td>\n",
              "      <td>98.5%</td>\n",
              "      <td>10.0</td>\n",
              "      <td>f</td>\n",
              "      <td>0.00</td>\n",
              "      <td>0.00</td>\n",
              "      <td>3005.666844</td>\n",
              "      <td>3005.67</td>\n",
              "      <td>2400.00</td>\n",
              "      <td>605.67</td>\n",
              "      <td>0.00</td>\n",
              "      <td>0.00</td>\n",
              "      <td>0.00</td>\n",
              "      <td>Jun-2014</td>\n",
              "      <td>649.91</td>\n",
              "      <td>Jun-2016</td>\n",
              "      <td>0.0</td>\n",
              "      <td>1.0</td>\n",
              "      <td>INDIVIDUAL</td>\n",
              "      <td>0.0</td>\n",
              "      <td>0.0</td>\n",
              "      <td>0.0</td>\n",
              "      <td>0.0</td>\n",
              "      <td>0.0</td>\n",
              "    </tr>\n",
              "    <tr>\n",
              "      <th>3</th>\n",
              "      <td>1076863</td>\n",
              "      <td>1277178.0</td>\n",
              "      <td>10000.0</td>\n",
              "      <td>10000.0</td>\n",
              "      <td>10000.0</td>\n",
              "      <td>36 months</td>\n",
              "      <td>13.49%</td>\n",
              "      <td>339.31</td>\n",
              "      <td>C</td>\n",
              "      <td>C1</td>\n",
              "      <td>AIR RESOURCES BOARD</td>\n",
              "      <td>10+ years</td>\n",
              "      <td>RENT</td>\n",
              "      <td>49200.0</td>\n",
              "      <td>Source Verified</td>\n",
              "      <td>Dec-2011</td>\n",
              "      <td>Fully Paid</td>\n",
              "      <td>n</td>\n",
              "      <td>other</td>\n",
              "      <td>personel</td>\n",
              "      <td>917xx</td>\n",
              "      <td>CA</td>\n",
              "      <td>20.00</td>\n",
              "      <td>0.0</td>\n",
              "      <td>Feb-1996</td>\n",
              "      <td>1.0</td>\n",
              "      <td>10.0</td>\n",
              "      <td>0.0</td>\n",
              "      <td>5598.0</td>\n",
              "      <td>21%</td>\n",
              "      <td>37.0</td>\n",
              "      <td>f</td>\n",
              "      <td>0.00</td>\n",
              "      <td>0.00</td>\n",
              "      <td>12231.890000</td>\n",
              "      <td>12231.89</td>\n",
              "      <td>10000.00</td>\n",
              "      <td>2214.92</td>\n",
              "      <td>16.97</td>\n",
              "      <td>0.00</td>\n",
              "      <td>0.00</td>\n",
              "      <td>Jan-2015</td>\n",
              "      <td>357.48</td>\n",
              "      <td>Apr-2016</td>\n",
              "      <td>0.0</td>\n",
              "      <td>1.0</td>\n",
              "      <td>INDIVIDUAL</td>\n",
              "      <td>0.0</td>\n",
              "      <td>0.0</td>\n",
              "      <td>0.0</td>\n",
              "      <td>0.0</td>\n",
              "      <td>0.0</td>\n",
              "    </tr>\n",
              "    <tr>\n",
              "      <th>4</th>\n",
              "      <td>1075358</td>\n",
              "      <td>1311748.0</td>\n",
              "      <td>3000.0</td>\n",
              "      <td>3000.0</td>\n",
              "      <td>3000.0</td>\n",
              "      <td>60 months</td>\n",
              "      <td>12.69%</td>\n",
              "      <td>67.79</td>\n",
              "      <td>B</td>\n",
              "      <td>B5</td>\n",
              "      <td>University Medical Group</td>\n",
              "      <td>1 year</td>\n",
              "      <td>RENT</td>\n",
              "      <td>80000.0</td>\n",
              "      <td>Source Verified</td>\n",
              "      <td>Dec-2011</td>\n",
              "      <td>Current</td>\n",
              "      <td>n</td>\n",
              "      <td>other</td>\n",
              "      <td>Personal</td>\n",
              "      <td>972xx</td>\n",
              "      <td>OR</td>\n",
              "      <td>17.94</td>\n",
              "      <td>0.0</td>\n",
              "      <td>Jan-1996</td>\n",
              "      <td>0.0</td>\n",
              "      <td>15.0</td>\n",
              "      <td>0.0</td>\n",
              "      <td>27783.0</td>\n",
              "      <td>53.9%</td>\n",
              "      <td>38.0</td>\n",
              "      <td>f</td>\n",
              "      <td>461.73</td>\n",
              "      <td>461.73</td>\n",
              "      <td>3581.120000</td>\n",
              "      <td>3581.12</td>\n",
              "      <td>2538.27</td>\n",
              "      <td>1042.85</td>\n",
              "      <td>0.00</td>\n",
              "      <td>0.00</td>\n",
              "      <td>0.00</td>\n",
              "      <td>Jun-2016</td>\n",
              "      <td>67.79</td>\n",
              "      <td>Jun-2016</td>\n",
              "      <td>0.0</td>\n",
              "      <td>1.0</td>\n",
              "      <td>INDIVIDUAL</td>\n",
              "      <td>0.0</td>\n",
              "      <td>0.0</td>\n",
              "      <td>0.0</td>\n",
              "      <td>0.0</td>\n",
              "      <td>0.0</td>\n",
              "    </tr>\n",
              "  </tbody>\n",
              "</table>\n",
              "</div>"
            ],
            "text/plain": [
              "        id  member_id  loan_amnt  ...  delinq_amnt  pub_rec_bankruptcies tax_liens\n",
              "0  1077501  1296599.0     5000.0  ...          0.0                   0.0       0.0\n",
              "1  1077430  1314167.0     2500.0  ...          0.0                   0.0       0.0\n",
              "2  1077175  1313524.0     2400.0  ...          0.0                   0.0       0.0\n",
              "3  1076863  1277178.0    10000.0  ...          0.0                   0.0       0.0\n",
              "4  1075358  1311748.0     3000.0  ...          0.0                   0.0       0.0\n",
              "\n",
              "[5 rows x 52 columns]"
            ]
          },
          "metadata": {
            "tags": []
          },
          "execution_count": 149
        }
      ]
    },
    {
      "cell_type": "code",
      "metadata": {
        "colab": {
          "base_uri": "https://localhost:8080/"
        },
        "id": "l588z69xsdaF",
        "outputId": "09fb125c-ffeb-4342-af94-d45fe88a682a"
      },
      "source": [
        "data.columns"
      ],
      "execution_count": null,
      "outputs": [
        {
          "output_type": "execute_result",
          "data": {
            "text/plain": [
              "Index(['id', 'member_id', 'loan_amnt', 'funded_amnt', 'funded_amnt_inv',\n",
              "       'term', 'int_rate', 'installment', 'grade', 'sub_grade', 'emp_title',\n",
              "       'emp_length', 'home_ownership', 'annual_inc', 'verification_status',\n",
              "       'issue_d', 'loan_status', 'pymnt_plan', 'purpose', 'title', 'zip_code',\n",
              "       'addr_state', 'dti', 'delinq_2yrs', 'earliest_cr_line',\n",
              "       'inq_last_6mths', 'open_acc', 'pub_rec', 'revol_bal', 'revol_util',\n",
              "       'total_acc', 'initial_list_status', 'out_prncp', 'out_prncp_inv',\n",
              "       'total_pymnt', 'total_pymnt_inv', 'total_rec_prncp', 'total_rec_int',\n",
              "       'total_rec_late_fee', 'recoveries', 'collection_recovery_fee',\n",
              "       'last_pymnt_d', 'last_pymnt_amnt', 'last_credit_pull_d',\n",
              "       'collections_12_mths_ex_med', 'policy_code', 'application_type',\n",
              "       'acc_now_delinq', 'chargeoff_within_12_mths', 'delinq_amnt',\n",
              "       'pub_rec_bankruptcies', 'tax_liens'],\n",
              "      dtype='object')"
            ]
          },
          "metadata": {
            "tags": []
          },
          "execution_count": 150
        }
      ]
    },
    {
      "cell_type": "code",
      "metadata": {
        "colab": {
          "base_uri": "https://localhost:8080/"
        },
        "id": "GkCZdxmDsec8",
        "outputId": "acbdef44-136c-4bfa-b263-754606aa11b9"
      },
      "source": [
        "data.loan_status.value_counts()\r\n"
      ],
      "execution_count": null,
      "outputs": [
        {
          "output_type": "execute_result",
          "data": {
            "text/plain": [
              "Fully Paid                                             33136\n",
              "Charged Off                                             5634\n",
              "Does not meet the credit policy. Status:Fully Paid      1988\n",
              "Current                                                  961\n",
              "Does not meet the credit policy. Status:Charged Off      761\n",
              "Late (31-120 days)                                        24\n",
              "In Grace Period                                           20\n",
              "Late (16-30 days)                                          8\n",
              "Default                                                    3\n",
              "Name: loan_status, dtype: int64"
            ]
          },
          "metadata": {
            "tags": []
          },
          "execution_count": 151
        }
      ]
    },
    {
      "cell_type": "code",
      "metadata": {
        "id": "gd48ZRNssrqg"
      },
      "source": [
        "data = data[(data['loan_status'] == 'Fully Paid') | (data['loan_status'] == 'Charged Off')]"
      ],
      "execution_count": null,
      "outputs": []
    },
    {
      "cell_type": "code",
      "metadata": {
        "colab": {
          "base_uri": "https://localhost:8080/"
        },
        "id": "Q8dwkvoLss98",
        "outputId": "f285b6ce-8f0c-4bea-d983-690088f7e22b"
      },
      "source": [
        "data.loan_status.value_counts()"
      ],
      "execution_count": null,
      "outputs": [
        {
          "output_type": "execute_result",
          "data": {
            "text/plain": [
              "Fully Paid     33136\n",
              "Charged Off     5634\n",
              "Name: loan_status, dtype: int64"
            ]
          },
          "metadata": {
            "tags": []
          },
          "execution_count": 153
        }
      ]
    },
    {
      "cell_type": "code",
      "metadata": {
        "id": "fYq6ihx5stY9"
      },
      "source": [
        "#Converting to binary data\r\n",
        "#-----------------------------------------------------------------------------------------------------------------------------\r\n",
        "data.loan_status[(data['loan_status']  == 'Fully Paid')]=0\r\n",
        "data.loan_status[(data['loan_status']  == 'Charged Off')]=1"
      ],
      "execution_count": null,
      "outputs": []
    },
    {
      "cell_type": "code",
      "metadata": {
        "colab": {
          "base_uri": "https://localhost:8080/"
        },
        "id": "y_l6PIQwstm6",
        "outputId": "d4e865db-0ac5-46c9-b651-ebbe4d5b9347"
      },
      "source": [
        "data.loan_status.astype(float)"
      ],
      "execution_count": null,
      "outputs": [
        {
          "output_type": "execute_result",
          "data": {
            "text/plain": [
              "0        0.0\n",
              "1        1.0\n",
              "2        0.0\n",
              "3        0.0\n",
              "5        0.0\n",
              "        ... \n",
              "39781    0.0\n",
              "39782    0.0\n",
              "39783    0.0\n",
              "39784    0.0\n",
              "39785    0.0\n",
              "Name: loan_status, Length: 38770, dtype: float64"
            ]
          },
          "metadata": {
            "tags": []
          },
          "execution_count": 155
        }
      ]
    },
    {
      "cell_type": "code",
      "metadata": {
        "colab": {
          "base_uri": "https://localhost:8080/"
        },
        "id": "Bhqy2Yg9stqK",
        "outputId": "3ebddde7-9fa4-4c1a-d2f9-43c0ebdb004e"
      },
      "source": [
        "len(data.columns)"
      ],
      "execution_count": null,
      "outputs": [
        {
          "output_type": "execute_result",
          "data": {
            "text/plain": [
              "52"
            ]
          },
          "metadata": {
            "tags": []
          },
          "execution_count": 156
        }
      ]
    },
    {
      "cell_type": "code",
      "metadata": {
        "id": "d_zsew4Qst16"
      },
      "source": [
        "#creating a lists to store columns we will retain as categorical or numerical\r\n",
        "#------------------------------------------------------------------------\r\n",
        "categorical_features=[]\r\n",
        "numerical_features=[]"
      ],
      "execution_count": null,
      "outputs": []
    },
    {
      "cell_type": "code",
      "metadata": {
        "colab": {
          "base_uri": "https://localhost:8080/"
        },
        "id": "hUaF66OVst5o",
        "outputId": "dbb59389-587e-47a6-8c27-a749ee0193ff"
      },
      "source": [
        "data.columns[:10]"
      ],
      "execution_count": null,
      "outputs": [
        {
          "output_type": "execute_result",
          "data": {
            "text/plain": [
              "Index(['id', 'member_id', 'loan_amnt', 'funded_amnt', 'funded_amnt_inv',\n",
              "       'term', 'int_rate', 'installment', 'grade', 'sub_grade'],\n",
              "      dtype='object')"
            ]
          },
          "metadata": {
            "tags": []
          },
          "execution_count": 158
        }
      ]
    },
    {
      "cell_type": "code",
      "metadata": {
        "colab": {
          "base_uri": "https://localhost:8080/"
        },
        "id": "gZ0DlRYrubku",
        "outputId": "c6cda2a7-66ea-4d2a-fe62-237af757ee2d"
      },
      "source": [
        "for col in data.columns[:9]:\r\n",
        "    print(col,'\\n'*2,data[col].head(10),'\\n'*3)"
      ],
      "execution_count": null,
      "outputs": [
        {
          "output_type": "stream",
          "text": [
            "id \n",
            "\n",
            " 0     1077501\n",
            "1     1077430\n",
            "2     1077175\n",
            "3     1076863\n",
            "5     1075269\n",
            "6     1069639\n",
            "7     1072053\n",
            "8     1071795\n",
            "9     1071570\n",
            "10    1070078\n",
            "Name: id, dtype: object \n",
            "\n",
            "\n",
            "\n",
            "member_id \n",
            "\n",
            " 0     1296599.0\n",
            "1     1314167.0\n",
            "2     1313524.0\n",
            "3     1277178.0\n",
            "5     1311441.0\n",
            "6     1304742.0\n",
            "7     1288686.0\n",
            "8     1306957.0\n",
            "9     1306721.0\n",
            "10    1305201.0\n",
            "Name: member_id, dtype: float64 \n",
            "\n",
            "\n",
            "\n",
            "loan_amnt \n",
            "\n",
            " 0      5000.0\n",
            "1      2500.0\n",
            "2      2400.0\n",
            "3     10000.0\n",
            "5      5000.0\n",
            "6      7000.0\n",
            "7      3000.0\n",
            "8      5600.0\n",
            "9      5375.0\n",
            "10     6500.0\n",
            "Name: loan_amnt, dtype: float64 \n",
            "\n",
            "\n",
            "\n",
            "funded_amnt \n",
            "\n",
            " 0      5000.0\n",
            "1      2500.0\n",
            "2      2400.0\n",
            "3     10000.0\n",
            "5      5000.0\n",
            "6      7000.0\n",
            "7      3000.0\n",
            "8      5600.0\n",
            "9      5375.0\n",
            "10     6500.0\n",
            "Name: funded_amnt, dtype: float64 \n",
            "\n",
            "\n",
            "\n",
            "funded_amnt_inv \n",
            "\n",
            " 0      4975.0\n",
            "1      2500.0\n",
            "2      2400.0\n",
            "3     10000.0\n",
            "5      5000.0\n",
            "6      7000.0\n",
            "7      3000.0\n",
            "8      5600.0\n",
            "9      5350.0\n",
            "10     6500.0\n",
            "Name: funded_amnt_inv, dtype: float64 \n",
            "\n",
            "\n",
            "\n",
            "term \n",
            "\n",
            " 0      36 months\n",
            "1      60 months\n",
            "2      36 months\n",
            "3      36 months\n",
            "5      36 months\n",
            "6      60 months\n",
            "7      36 months\n",
            "8      60 months\n",
            "9      60 months\n",
            "10     60 months\n",
            "Name: term, dtype: object \n",
            "\n",
            "\n",
            "\n",
            "int_rate \n",
            "\n",
            " 0      10.65%\n",
            "1      15.27%\n",
            "2      15.96%\n",
            "3      13.49%\n",
            "5       7.90%\n",
            "6      15.96%\n",
            "7      18.64%\n",
            "8      21.28%\n",
            "9      12.69%\n",
            "10     14.65%\n",
            "Name: int_rate, dtype: object \n",
            "\n",
            "\n",
            "\n",
            "installment \n",
            "\n",
            " 0     162.87\n",
            "1      59.83\n",
            "2      84.33\n",
            "3     339.31\n",
            "5     156.46\n",
            "6     170.08\n",
            "7     109.43\n",
            "8     152.39\n",
            "9     121.45\n",
            "10    153.45\n",
            "Name: installment, dtype: float64 \n",
            "\n",
            "\n",
            "\n",
            "grade \n",
            "\n",
            " 0     B\n",
            "1     C\n",
            "2     C\n",
            "3     C\n",
            "5     A\n",
            "6     C\n",
            "7     E\n",
            "8     F\n",
            "9     B\n",
            "10    C\n",
            "Name: grade, dtype: object \n",
            "\n",
            "\n",
            "\n"
          ],
          "name": "stdout"
        }
      ]
    },
    {
      "cell_type": "code",
      "metadata": {
        "id": "W8rUOrrHubpJ"
      },
      "source": [
        "categorical_features.append('term')\r\n",
        "numerical_features.append('loan_amnt')\r\n",
        "numerical_features.append('installment')\r\n",
        "numerical_features.append('int_rate')"
      ],
      "execution_count": null,
      "outputs": []
    },
    {
      "cell_type": "code",
      "metadata": {
        "colab": {
          "base_uri": "https://localhost:8080/"
        },
        "id": "4c1VODFgubsM",
        "outputId": "68feae0b-d152-4459-98b0-8a809464a460"
      },
      "source": [
        "\r\n",
        "data.columns[10:20]"
      ],
      "execution_count": null,
      "outputs": [
        {
          "output_type": "execute_result",
          "data": {
            "text/plain": [
              "Index(['emp_title', 'emp_length', 'home_ownership', 'annual_inc',\n",
              "       'verification_status', 'issue_d', 'loan_status', 'pymnt_plan',\n",
              "       'purpose', 'title'],\n",
              "      dtype='object')"
            ]
          },
          "metadata": {
            "tags": []
          },
          "execution_count": 80
        }
      ]
    },
    {
      "cell_type": "code",
      "metadata": {
        "colab": {
          "base_uri": "https://localhost:8080/"
        },
        "id": "iWfCtCR-ubuw",
        "outputId": "4421d7a7-bee1-4217-b47a-61c4d5578f0a"
      },
      "source": [
        "\r\n",
        "for col in data.columns[10:20]:\r\n",
        "    print(col,'\\n'*2,data[col].head(10),'\\n'*3)"
      ],
      "execution_count": null,
      "outputs": [
        {
          "output_type": "stream",
          "text": [
            "emp_title \n",
            "\n",
            " 0                           NaN\n",
            "1                         Ryder\n",
            "2                           NaN\n",
            "3           AIR RESOURCES BOARD\n",
            "5          Veolia Transportaton\n",
            "6     Southern Star Photography\n",
            "7               MKC Accounting \n",
            "8                           NaN\n",
            "9                     Starbucks\n",
            "10        Southwest Rural metro\n",
            "Name: emp_title, dtype: object \n",
            "\n",
            "\n",
            "\n",
            "emp_length \n",
            "\n",
            " 0     10+ years\n",
            "1      < 1 year\n",
            "2     10+ years\n",
            "3     10+ years\n",
            "5       3 years\n",
            "6       8 years\n",
            "7       9 years\n",
            "8       4 years\n",
            "9      < 1 year\n",
            "10      5 years\n",
            "Name: emp_length, dtype: object \n",
            "\n",
            "\n",
            "\n",
            "home_ownership \n",
            "\n",
            " 0     RENT\n",
            "1     RENT\n",
            "2     RENT\n",
            "3     RENT\n",
            "5     RENT\n",
            "6     RENT\n",
            "7     RENT\n",
            "8      OWN\n",
            "9     RENT\n",
            "10     OWN\n",
            "Name: home_ownership, dtype: object \n",
            "\n",
            "\n",
            "\n",
            "annual_inc \n",
            "\n",
            " 0     24000.0\n",
            "1     30000.0\n",
            "2     12252.0\n",
            "3     49200.0\n",
            "5     36000.0\n",
            "6     47004.0\n",
            "7     48000.0\n",
            "8     40000.0\n",
            "9     15000.0\n",
            "10    72000.0\n",
            "Name: annual_inc, dtype: float64 \n",
            "\n",
            "\n",
            "\n",
            "verification_status \n",
            "\n",
            " 0            Verified\n",
            "1     Source Verified\n",
            "2        Not Verified\n",
            "3     Source Verified\n",
            "5     Source Verified\n",
            "6        Not Verified\n",
            "7     Source Verified\n",
            "8     Source Verified\n",
            "9            Verified\n",
            "10       Not Verified\n",
            "Name: verification_status, dtype: object \n",
            "\n",
            "\n",
            "\n",
            "issue_d \n",
            "\n",
            " 0     Dec-2011\n",
            "1     Dec-2011\n",
            "2     Dec-2011\n",
            "3     Dec-2011\n",
            "5     Dec-2011\n",
            "6     Dec-2011\n",
            "7     Dec-2011\n",
            "8     Dec-2011\n",
            "9     Dec-2011\n",
            "10    Dec-2011\n",
            "Name: issue_d, dtype: object \n",
            "\n",
            "\n",
            "\n",
            "loan_status \n",
            "\n",
            " 0     0\n",
            "1     1\n",
            "2     0\n",
            "3     0\n",
            "5     0\n",
            "6     0\n",
            "7     0\n",
            "8     1\n",
            "9     1\n",
            "10    0\n",
            "Name: loan_status, dtype: object \n",
            "\n",
            "\n",
            "\n",
            "pymnt_plan \n",
            "\n",
            " 0     n\n",
            "1     n\n",
            "2     n\n",
            "3     n\n",
            "5     n\n",
            "6     n\n",
            "7     n\n",
            "8     n\n",
            "9     n\n",
            "10    n\n",
            "Name: pymnt_plan, dtype: object \n",
            "\n",
            "\n",
            "\n",
            "purpose \n",
            "\n",
            " 0            credit_card\n",
            "1                    car\n",
            "2         small_business\n",
            "3                  other\n",
            "5                wedding\n",
            "6     debt_consolidation\n",
            "7                    car\n",
            "8         small_business\n",
            "9                  other\n",
            "10    debt_consolidation\n",
            "Name: purpose, dtype: object \n",
            "\n",
            "\n",
            "\n",
            "title \n",
            "\n",
            " 0                                  Computer\n",
            "1                                      bike\n",
            "2                      real estate business\n",
            "3                                  personel\n",
            "5     My wedding loan I promise to pay back\n",
            "6                                      Loan\n",
            "7                           Car Downpayment\n",
            "8      Expand Business & Buy Debt Portfolio\n",
            "9               Building my credit history.\n",
            "10               High intrest Consolidation\n",
            "Name: title, dtype: object \n",
            "\n",
            "\n",
            "\n"
          ],
          "name": "stdout"
        }
      ]
    },
    {
      "cell_type": "code",
      "metadata": {
        "id": "iBZX03uvubyM"
      },
      "source": [
        "\r\n",
        "categorical_features.append('home_ownership')\r\n",
        "categorical_features.append('purpose')\r\n",
        "categorical_features.append('verification_status')\r\n",
        "numerical_features.append('emp_length')\r\n",
        "numerical_features.append('annual_inc')"
      ],
      "execution_count": null,
      "outputs": []
    },
    {
      "cell_type": "code",
      "metadata": {
        "colab": {
          "base_uri": "https://localhost:8080/"
        },
        "id": "8j4q1dcHub1A",
        "outputId": "bedd47f2-04c6-4dda-def6-74aa6c2557ed"
      },
      "source": [
        "data.columns[20:30]"
      ],
      "execution_count": null,
      "outputs": [
        {
          "output_type": "execute_result",
          "data": {
            "text/plain": [
              "Index(['zip_code', 'addr_state', 'dti', 'delinq_2yrs', 'earliest_cr_line',\n",
              "       'inq_last_6mths', 'open_acc', 'pub_rec', 'revol_bal', 'revol_util'],\n",
              "      dtype='object')"
            ]
          },
          "metadata": {
            "tags": []
          },
          "execution_count": 83
        }
      ]
    },
    {
      "cell_type": "code",
      "metadata": {
        "colab": {
          "base_uri": "https://localhost:8080/"
        },
        "id": "l_utak_Lu3j6",
        "outputId": "8fd01edf-f2ea-40ca-f2be-fed5e6b1fe27"
      },
      "source": [
        "for col in data.columns[20:30]:\r\n",
        "    print(col,'\\n'*2,data[col].head(10),'\\n'*3)"
      ],
      "execution_count": null,
      "outputs": [
        {
          "output_type": "stream",
          "text": [
            "zip_code \n",
            "\n",
            " 0     860xx\n",
            "1     309xx\n",
            "2     606xx\n",
            "3     917xx\n",
            "5     852xx\n",
            "6     280xx\n",
            "7     900xx\n",
            "8     958xx\n",
            "9     774xx\n",
            "10    853xx\n",
            "Name: zip_code, dtype: object \n",
            "\n",
            "\n",
            "\n",
            "addr_state \n",
            "\n",
            " 0     AZ\n",
            "1     GA\n",
            "2     IL\n",
            "3     CA\n",
            "5     AZ\n",
            "6     NC\n",
            "7     CA\n",
            "8     CA\n",
            "9     TX\n",
            "10    AZ\n",
            "Name: addr_state, dtype: object \n",
            "\n",
            "\n",
            "\n",
            "dti \n",
            "\n",
            " 0     27.65\n",
            "1      1.00\n",
            "2      8.72\n",
            "3     20.00\n",
            "5     11.20\n",
            "6     23.51\n",
            "7      5.35\n",
            "8      5.55\n",
            "9     18.08\n",
            "10    16.12\n",
            "Name: dti, dtype: float64 \n",
            "\n",
            "\n",
            "\n",
            "delinq_2yrs \n",
            "\n",
            " 0     0.0\n",
            "1     0.0\n",
            "2     0.0\n",
            "3     0.0\n",
            "5     0.0\n",
            "6     0.0\n",
            "7     0.0\n",
            "8     0.0\n",
            "9     0.0\n",
            "10    0.0\n",
            "Name: delinq_2yrs, dtype: float64 \n",
            "\n",
            "\n",
            "\n",
            "earliest_cr_line \n",
            "\n",
            " 0     Jan-1985\n",
            "1     Apr-1999\n",
            "2     Nov-2001\n",
            "3     Feb-1996\n",
            "5     Nov-2004\n",
            "6     Jul-2005\n",
            "7     Jan-2007\n",
            "8     Apr-2004\n",
            "9     Sep-2004\n",
            "10    Jan-1998\n",
            "Name: earliest_cr_line, dtype: object \n",
            "\n",
            "\n",
            "\n",
            "inq_last_6mths \n",
            "\n",
            " 0     1.0\n",
            "1     5.0\n",
            "2     2.0\n",
            "3     1.0\n",
            "5     3.0\n",
            "6     1.0\n",
            "7     2.0\n",
            "8     2.0\n",
            "9     0.0\n",
            "10    2.0\n",
            "Name: inq_last_6mths, dtype: float64 \n",
            "\n",
            "\n",
            "\n",
            "open_acc \n",
            "\n",
            " 0      3.0\n",
            "1      3.0\n",
            "2      2.0\n",
            "3     10.0\n",
            "5      9.0\n",
            "6      7.0\n",
            "7      4.0\n",
            "8     11.0\n",
            "9      2.0\n",
            "10    14.0\n",
            "Name: open_acc, dtype: float64 \n",
            "\n",
            "\n",
            "\n",
            "pub_rec \n",
            "\n",
            " 0     0.0\n",
            "1     0.0\n",
            "2     0.0\n",
            "3     0.0\n",
            "5     0.0\n",
            "6     0.0\n",
            "7     0.0\n",
            "8     0.0\n",
            "9     0.0\n",
            "10    0.0\n",
            "Name: pub_rec, dtype: float64 \n",
            "\n",
            "\n",
            "\n",
            "revol_bal \n",
            "\n",
            " 0     13648.0\n",
            "1      1687.0\n",
            "2      2956.0\n",
            "3      5598.0\n",
            "5      7963.0\n",
            "6     17726.0\n",
            "7      8221.0\n",
            "8      5210.0\n",
            "9      9279.0\n",
            "10     4032.0\n",
            "Name: revol_bal, dtype: float64 \n",
            "\n",
            "\n",
            "\n",
            "revol_util \n",
            "\n",
            " 0     83.7%\n",
            "1      9.4%\n",
            "2     98.5%\n",
            "3       21%\n",
            "5     28.3%\n",
            "6     85.6%\n",
            "7     87.5%\n",
            "8     32.6%\n",
            "9     36.5%\n",
            "10    20.6%\n",
            "Name: revol_util, dtype: object \n",
            "\n",
            "\n",
            "\n"
          ],
          "name": "stdout"
        }
      ]
    },
    {
      "cell_type": "code",
      "metadata": {
        "colab": {
          "background_save": true
        },
        "id": "HXqreaRgu3qK"
      },
      "source": [
        "numerical_features.append('pub_rec')\r\n",
        "numerical_features.append('earliest_cr_line')\r\n",
        "numerical_features.append('delinq_2yrs')\r\n",
        "numerical_features.append('revol_util')\r\n",
        "numerical_features.append('revol_bal')\r\n",
        "numerical_features.append('open_acc')\r\n",
        "numerical_features.append('inq_last_6mths')\r\n",
        "numerical_features.append('dti')"
      ],
      "execution_count": null,
      "outputs": []
    },
    {
      "cell_type": "code",
      "metadata": {
        "colab": {
          "base_uri": "https://localhost:8080/"
        },
        "id": "7ICL3HEiu3sW",
        "outputId": "9a46ec21-0faf-4181-a598-08dc5a5fb7a3"
      },
      "source": [
        "data.columns[30:40]"
      ],
      "execution_count": null,
      "outputs": [
        {
          "output_type": "execute_result",
          "data": {
            "text/plain": [
              "Index(['total_acc', 'initial_list_status', 'out_prncp', 'out_prncp_inv',\n",
              "       'total_pymnt', 'total_pymnt_inv', 'total_rec_prncp', 'total_rec_int',\n",
              "       'total_rec_late_fee', 'recoveries'],\n",
              "      dtype='object')"
            ]
          },
          "metadata": {
            "tags": []
          },
          "execution_count": 86
        }
      ]
    },
    {
      "cell_type": "code",
      "metadata": {
        "colab": {
          "base_uri": "https://localhost:8080/"
        },
        "id": "119bGHTeu34H",
        "outputId": "ad0ff804-cc58-47d5-fc95-f17371a63ba5"
      },
      "source": [
        "for col in data.columns[30:40]:\r\n",
        "    print(col,'\\n'*2,data[col].head(10),'\\n'*3)"
      ],
      "execution_count": null,
      "outputs": [
        {
          "output_type": "stream",
          "text": [
            "total_acc \n",
            "\n",
            " 0      9.0\n",
            "1      4.0\n",
            "2     10.0\n",
            "3     37.0\n",
            "5     12.0\n",
            "6     11.0\n",
            "7      4.0\n",
            "8     13.0\n",
            "9      3.0\n",
            "10    23.0\n",
            "Name: total_acc, dtype: float64 \n",
            "\n",
            "\n",
            "\n",
            "initial_list_status \n",
            "\n",
            " 0     f\n",
            "1     f\n",
            "2     f\n",
            "3     f\n",
            "5     f\n",
            "6     f\n",
            "7     f\n",
            "8     f\n",
            "9     f\n",
            "10    f\n",
            "Name: initial_list_status, dtype: object \n",
            "\n",
            "\n",
            "\n",
            "out_prncp \n",
            "\n",
            " 0     0.0\n",
            "1     0.0\n",
            "2     0.0\n",
            "3     0.0\n",
            "5     0.0\n",
            "6     0.0\n",
            "7     0.0\n",
            "8     0.0\n",
            "9     0.0\n",
            "10    0.0\n",
            "Name: out_prncp, dtype: float64 \n",
            "\n",
            "\n",
            "\n",
            "out_prncp_inv \n",
            "\n",
            " 0     0.0\n",
            "1     0.0\n",
            "2     0.0\n",
            "3     0.0\n",
            "5     0.0\n",
            "6     0.0\n",
            "7     0.0\n",
            "8     0.0\n",
            "9     0.0\n",
            "10    0.0\n",
            "Name: out_prncp_inv, dtype: float64 \n",
            "\n",
            "\n",
            "\n",
            "total_pymnt \n",
            "\n",
            " 0      5863.155187\n",
            "1      1008.710000\n",
            "2      3005.666844\n",
            "3     12231.890000\n",
            "5      5632.210000\n",
            "6     10137.840008\n",
            "7      3939.135294\n",
            "8       646.020000\n",
            "9      1476.190000\n",
            "10     7678.017673\n",
            "Name: total_pymnt, dtype: float64 \n",
            "\n",
            "\n",
            "\n",
            "total_pymnt_inv \n",
            "\n",
            " 0      5833.84\n",
            "1      1008.71\n",
            "2      3005.67\n",
            "3     12231.89\n",
            "5      5632.21\n",
            "6     10137.84\n",
            "7      3939.14\n",
            "8       646.02\n",
            "9      1469.34\n",
            "10     7678.02\n",
            "Name: total_pymnt_inv, dtype: float64 \n",
            "\n",
            "\n",
            "\n",
            "total_rec_prncp \n",
            "\n",
            " 0      5000.00\n",
            "1       456.46\n",
            "2      2400.00\n",
            "3     10000.00\n",
            "5      5000.00\n",
            "6      7000.00\n",
            "7      3000.00\n",
            "8       162.02\n",
            "9       673.48\n",
            "10     6500.00\n",
            "Name: total_rec_prncp, dtype: float64 \n",
            "\n",
            "\n",
            "\n",
            "total_rec_int \n",
            "\n",
            " 0      863.16\n",
            "1      435.17\n",
            "2      605.67\n",
            "3     2214.92\n",
            "5      632.21\n",
            "6     3137.84\n",
            "7      939.14\n",
            "8      294.94\n",
            "9      533.42\n",
            "10    1178.02\n",
            "Name: total_rec_int, dtype: float64 \n",
            "\n",
            "\n",
            "\n",
            "total_rec_late_fee \n",
            "\n",
            " 0      0.00\n",
            "1      0.00\n",
            "2      0.00\n",
            "3     16.97\n",
            "5      0.00\n",
            "6      0.00\n",
            "7      0.00\n",
            "8      0.00\n",
            "9      0.00\n",
            "10     0.00\n",
            "Name: total_rec_late_fee, dtype: float64 \n",
            "\n",
            "\n",
            "\n",
            "recoveries \n",
            "\n",
            " 0       0.00\n",
            "1     117.08\n",
            "2       0.00\n",
            "3       0.00\n",
            "5       0.00\n",
            "6       0.00\n",
            "7       0.00\n",
            "8     189.06\n",
            "9     269.29\n",
            "10      0.00\n",
            "Name: recoveries, dtype: float64 \n",
            "\n",
            "\n",
            "\n"
          ],
          "name": "stdout"
        }
      ]
    },
    {
      "cell_type": "code",
      "metadata": {
        "colab": {
          "base_uri": "https://localhost:8080/"
        },
        "id": "6-ObvG1LvMiZ",
        "outputId": "5ca7ca4c-bf12-47eb-d9dd-4712f6c97113"
      },
      "source": [
        "data.columns[41:]\r\n"
      ],
      "execution_count": null,
      "outputs": [
        {
          "output_type": "execute_result",
          "data": {
            "text/plain": [
              "Index(['last_pymnt_d', 'last_pymnt_amnt', 'last_credit_pull_d',\n",
              "       'collections_12_mths_ex_med', 'policy_code', 'application_type',\n",
              "       'acc_now_delinq', 'chargeoff_within_12_mths', 'delinq_amnt',\n",
              "       'pub_rec_bankruptcies', 'tax_liens'],\n",
              "      dtype='object')"
            ]
          },
          "metadata": {
            "tags": []
          },
          "execution_count": 88
        }
      ]
    },
    {
      "cell_type": "code",
      "metadata": {
        "colab": {
          "base_uri": "https://localhost:8080/"
        },
        "id": "jDzIRd75vMnw",
        "outputId": "654ba961-7eee-41dc-b57d-18ec49fa2b77"
      },
      "source": [
        "for col in data.columns[40:]:\r\n",
        "    print(col,'\\n'*2,data[col].head(10),'\\n'*3)\r\n"
      ],
      "execution_count": null,
      "outputs": [
        {
          "output_type": "stream",
          "text": [
            "collection_recovery_fee \n",
            "\n",
            " 0     0.00\n",
            "1     1.11\n",
            "2     0.00\n",
            "3     0.00\n",
            "5     0.00\n",
            "6     0.00\n",
            "7     0.00\n",
            "8     2.09\n",
            "9     2.52\n",
            "10    0.00\n",
            "Name: collection_recovery_fee, dtype: float64 \n",
            "\n",
            "\n",
            "\n",
            "last_pymnt_d \n",
            "\n",
            " 0     Jan-2015\n",
            "1     Apr-2013\n",
            "2     Jun-2014\n",
            "3     Jan-2015\n",
            "5     Jan-2015\n",
            "6     May-2016\n",
            "7     Jan-2015\n",
            "8     Apr-2012\n",
            "9     Nov-2012\n",
            "10    Jun-2013\n",
            "Name: last_pymnt_d, dtype: object \n",
            "\n",
            "\n",
            "\n",
            "last_pymnt_amnt \n",
            "\n",
            " 0      171.62\n",
            "1      119.66\n",
            "2      649.91\n",
            "3      357.48\n",
            "5      161.03\n",
            "6     1313.76\n",
            "7      111.34\n",
            "8      152.39\n",
            "9      121.45\n",
            "10    1655.54\n",
            "Name: last_pymnt_amnt, dtype: float64 \n",
            "\n",
            "\n",
            "\n",
            "last_credit_pull_d \n",
            "\n",
            " 0     Jun-2016\n",
            "1     Sep-2013\n",
            "2     Jun-2016\n",
            "3     Apr-2016\n",
            "5     Jan-2016\n",
            "6     May-2016\n",
            "7     Dec-2014\n",
            "8     Aug-2012\n",
            "9     Mar-2013\n",
            "10    Dec-2015\n",
            "Name: last_credit_pull_d, dtype: object \n",
            "\n",
            "\n",
            "\n",
            "collections_12_mths_ex_med \n",
            "\n",
            " 0     0.0\n",
            "1     0.0\n",
            "2     0.0\n",
            "3     0.0\n",
            "5     0.0\n",
            "6     0.0\n",
            "7     0.0\n",
            "8     0.0\n",
            "9     0.0\n",
            "10    0.0\n",
            "Name: collections_12_mths_ex_med, dtype: float64 \n",
            "\n",
            "\n",
            "\n",
            "policy_code \n",
            "\n",
            " 0     1.0\n",
            "1     1.0\n",
            "2     1.0\n",
            "3     1.0\n",
            "5     1.0\n",
            "6     1.0\n",
            "7     1.0\n",
            "8     1.0\n",
            "9     1.0\n",
            "10    1.0\n",
            "Name: policy_code, dtype: float64 \n",
            "\n",
            "\n",
            "\n",
            "application_type \n",
            "\n",
            " 0     INDIVIDUAL\n",
            "1     INDIVIDUAL\n",
            "2     INDIVIDUAL\n",
            "3     INDIVIDUAL\n",
            "5     INDIVIDUAL\n",
            "6     INDIVIDUAL\n",
            "7     INDIVIDUAL\n",
            "8     INDIVIDUAL\n",
            "9     INDIVIDUAL\n",
            "10    INDIVIDUAL\n",
            "Name: application_type, dtype: object \n",
            "\n",
            "\n",
            "\n",
            "acc_now_delinq \n",
            "\n",
            " 0     0.0\n",
            "1     0.0\n",
            "2     0.0\n",
            "3     0.0\n",
            "5     0.0\n",
            "6     0.0\n",
            "7     0.0\n",
            "8     0.0\n",
            "9     0.0\n",
            "10    0.0\n",
            "Name: acc_now_delinq, dtype: float64 \n",
            "\n",
            "\n",
            "\n",
            "chargeoff_within_12_mths \n",
            "\n",
            " 0     0.0\n",
            "1     0.0\n",
            "2     0.0\n",
            "3     0.0\n",
            "5     0.0\n",
            "6     0.0\n",
            "7     0.0\n",
            "8     0.0\n",
            "9     0.0\n",
            "10    0.0\n",
            "Name: chargeoff_within_12_mths, dtype: float64 \n",
            "\n",
            "\n",
            "\n",
            "delinq_amnt \n",
            "\n",
            " 0     0.0\n",
            "1     0.0\n",
            "2     0.0\n",
            "3     0.0\n",
            "5     0.0\n",
            "6     0.0\n",
            "7     0.0\n",
            "8     0.0\n",
            "9     0.0\n",
            "10    0.0\n",
            "Name: delinq_amnt, dtype: float64 \n",
            "\n",
            "\n",
            "\n",
            "pub_rec_bankruptcies \n",
            "\n",
            " 0     0.0\n",
            "1     0.0\n",
            "2     0.0\n",
            "3     0.0\n",
            "5     0.0\n",
            "6     0.0\n",
            "7     0.0\n",
            "8     0.0\n",
            "9     0.0\n",
            "10    0.0\n",
            "Name: pub_rec_bankruptcies, dtype: float64 \n",
            "\n",
            "\n",
            "\n",
            "tax_liens \n",
            "\n",
            " 0     0.0\n",
            "1     0.0\n",
            "2     0.0\n",
            "3     0.0\n",
            "5     0.0\n",
            "6     0.0\n",
            "7     0.0\n",
            "8     0.0\n",
            "9     0.0\n",
            "10    0.0\n",
            "Name: tax_liens, dtype: float64 \n",
            "\n",
            "\n",
            "\n"
          ],
          "name": "stdout"
        }
      ]
    },
    {
      "cell_type": "code",
      "metadata": {
        "id": "MXCdkHbCvM0E"
      },
      "source": [
        "numerical_features.append('tax_liens')\r\n",
        "numerical_features.append('last_credit_pull_d')\r\n",
        "numerical_features.append('pub_rec_bankruptcies')"
      ],
      "execution_count": null,
      "outputs": []
    },
    {
      "cell_type": "code",
      "metadata": {
        "colab": {
          "base_uri": "https://localhost:8080/"
        },
        "id": "KItUg4ClvM3s",
        "outputId": "7d8111fb-ebfe-452a-998d-9175af1864b5"
      },
      "source": [
        "print('We have', len(categorical_features),'categorical_features and',len(numerical_features),'numerical_features')"
      ],
      "execution_count": null,
      "outputs": [
        {
          "output_type": "stream",
          "text": [
            "We have 4 categorical_features and 16 numerical_features\n"
          ],
          "name": "stdout"
        }
      ]
    },
    {
      "cell_type": "code",
      "metadata": {
        "colab": {
          "base_uri": "https://localhost:8080/"
        },
        "id": "qpnoSrqZvd8-",
        "outputId": "999b798c-4c71-4622-a3aa-fe3ea06d0b13"
      },
      "source": [
        "categorical_features"
      ],
      "execution_count": null,
      "outputs": [
        {
          "output_type": "execute_result",
          "data": {
            "text/plain": [
              "['term', 'home_ownership', 'purpose', 'verification_status']"
            ]
          },
          "metadata": {
            "tags": []
          },
          "execution_count": 92
        }
      ]
    },
    {
      "cell_type": "code",
      "metadata": {
        "colab": {
          "base_uri": "https://localhost:8080/"
        },
        "id": "VePJhJHEveJw",
        "outputId": "3f2279cc-f51e-4468-cf1e-2f1f7cf3d396"
      },
      "source": [
        "numerical_features"
      ],
      "execution_count": null,
      "outputs": [
        {
          "output_type": "execute_result",
          "data": {
            "text/plain": [
              "['loan_amnt',\n",
              " 'installment',\n",
              " 'int_rate',\n",
              " 'emp_length',\n",
              " 'annual_inc',\n",
              " 'pub_rec',\n",
              " 'earliest_cr_line',\n",
              " 'delinq_2yrs',\n",
              " 'revol_util',\n",
              " 'revol_bal',\n",
              " 'open_acc',\n",
              " 'inq_last_6mths',\n",
              " 'dti',\n",
              " 'tax_liens',\n",
              " 'last_credit_pull_d',\n",
              " 'pub_rec_bankruptcies']"
            ]
          },
          "metadata": {
            "tags": []
          },
          "execution_count": 93
        }
      ]
    },
    {
      "cell_type": "code",
      "metadata": {
        "colab": {
          "base_uri": "https://localhost:8080/"
        },
        "id": "qI7nFetfveMQ",
        "outputId": "6e51e620-500f-4f4e-cdd0-1ef879fe4160"
      },
      "source": [
        "data.isna().sum()"
      ],
      "execution_count": null,
      "outputs": [
        {
          "output_type": "execute_result",
          "data": {
            "text/plain": [
              "id                               0\n",
              "member_id                        0\n",
              "loan_amnt                        0\n",
              "funded_amnt                      0\n",
              "funded_amnt_inv                  0\n",
              "term                             0\n",
              "int_rate                         0\n",
              "installment                      0\n",
              "grade                            0\n",
              "sub_grade                        0\n",
              "emp_title                     2396\n",
              "emp_length                    1036\n",
              "home_ownership                   0\n",
              "annual_inc                       0\n",
              "verification_status              0\n",
              "issue_d                          0\n",
              "loan_status                      0\n",
              "pymnt_plan                       0\n",
              "purpose                          0\n",
              "title                           11\n",
              "zip_code                         0\n",
              "addr_state                       0\n",
              "dti                              0\n",
              "delinq_2yrs                      0\n",
              "earliest_cr_line                 0\n",
              "inq_last_6mths                   0\n",
              "open_acc                         0\n",
              "pub_rec                          0\n",
              "revol_bal                        0\n",
              "revol_util                      50\n",
              "total_acc                        0\n",
              "initial_list_status              0\n",
              "out_prncp                        0\n",
              "out_prncp_inv                    0\n",
              "total_pymnt                      0\n",
              "total_pymnt_inv                  0\n",
              "total_rec_prncp                  0\n",
              "total_rec_int                    0\n",
              "total_rec_late_fee               0\n",
              "recoveries                       0\n",
              "collection_recovery_fee          0\n",
              "last_pymnt_d                    71\n",
              "last_pymnt_amnt                  0\n",
              "last_credit_pull_d               2\n",
              "collections_12_mths_ex_med      56\n",
              "policy_code                      0\n",
              "application_type                 0\n",
              "acc_now_delinq                   0\n",
              "chargeoff_within_12_mths        56\n",
              "delinq_amnt                      0\n",
              "pub_rec_bankruptcies           697\n",
              "tax_liens                       39\n",
              "dtype: int64"
            ]
          },
          "metadata": {
            "tags": []
          },
          "execution_count": 94
        }
      ]
    },
    {
      "cell_type": "code",
      "metadata": {
        "id": "aMMNbZQgveh6"
      },
      "source": [
        "data.dropna(subset=['tax_liens','revol_util','last_credit_pull_d'],inplace=True)"
      ],
      "execution_count": null,
      "outputs": []
    },
    {
      "cell_type": "code",
      "metadata": {
        "colab": {
          "base_uri": "https://localhost:8080/"
        },
        "id": "m_20oK5Yvvxd",
        "outputId": "968d15db-1119-4637-acfd-20d8b1449659"
      },
      "source": [
        "data.loan_status[data.emp_length.isna()==True].value_counts()"
      ],
      "execution_count": null,
      "outputs": [
        {
          "output_type": "execute_result",
          "data": {
            "text/plain": [
              "0    806\n",
              "1    227\n",
              "Name: loan_status, dtype: int64"
            ]
          },
          "metadata": {
            "tags": []
          },
          "execution_count": 96
        }
      ]
    },
    {
      "cell_type": "code",
      "metadata": {
        "colab": {
          "base_uri": "https://localhost:8080/"
        },
        "id": "aNYX6Zjsvvz5",
        "outputId": "148e4acd-f2de-4aa9-88d6-d17c38dd565b"
      },
      "source": [
        "data.loan_status[data.pub_rec_bankruptcies.isna()==True].value_counts()\r\n"
      ],
      "execution_count": null,
      "outputs": [
        {
          "output_type": "execute_result",
          "data": {
            "text/plain": [
              "0    540\n",
              "1    117\n",
              "Name: loan_status, dtype: int64"
            ]
          },
          "metadata": {
            "tags": []
          },
          "execution_count": 97
        }
      ]
    },
    {
      "cell_type": "code",
      "metadata": {
        "id": "u0Mrz50Fvv3v"
      },
      "source": [
        "data.dropna(subset=['pub_rec_bankruptcies','emp_length'],inplace=True)"
      ],
      "execution_count": null,
      "outputs": []
    },
    {
      "cell_type": "code",
      "metadata": {
        "id": "Xkk5j59Iv-HH"
      },
      "source": [
        "data.reset_index(inplace=True)"
      ],
      "execution_count": null,
      "outputs": []
    },
    {
      "cell_type": "code",
      "metadata": {
        "colab": {
          "base_uri": "https://localhost:8080/",
          "height": 202
        },
        "id": "4k3eUoJmv-YX",
        "outputId": "ed77f5dd-5b1a-42f8-ea7c-14b1b072fa0b"
      },
      "source": [
        "#-----------------------------------------------------------------------------------------------------------------------------\r\n",
        "data_categorical=pd.DataFrame()\r\n",
        "for col in categorical_features:\r\n",
        "    data_categorical=pd.concat([ data_categorical, data[col]], axis= 1)\r\n",
        "\r\n",
        "data_categorical.head()"
      ],
      "execution_count": null,
      "outputs": [
        {
          "output_type": "execute_result",
          "data": {
            "text/html": [
              "<div>\n",
              "<style scoped>\n",
              "    .dataframe tbody tr th:only-of-type {\n",
              "        vertical-align: middle;\n",
              "    }\n",
              "\n",
              "    .dataframe tbody tr th {\n",
              "        vertical-align: top;\n",
              "    }\n",
              "\n",
              "    .dataframe thead th {\n",
              "        text-align: right;\n",
              "    }\n",
              "</style>\n",
              "<table border=\"1\" class=\"dataframe\">\n",
              "  <thead>\n",
              "    <tr style=\"text-align: right;\">\n",
              "      <th></th>\n",
              "      <th>term</th>\n",
              "      <th>home_ownership</th>\n",
              "      <th>purpose</th>\n",
              "      <th>verification_status</th>\n",
              "    </tr>\n",
              "  </thead>\n",
              "  <tbody>\n",
              "    <tr>\n",
              "      <th>0</th>\n",
              "      <td>36 months</td>\n",
              "      <td>RENT</td>\n",
              "      <td>credit_card</td>\n",
              "      <td>Verified</td>\n",
              "    </tr>\n",
              "    <tr>\n",
              "      <th>1</th>\n",
              "      <td>60 months</td>\n",
              "      <td>RENT</td>\n",
              "      <td>car</td>\n",
              "      <td>Source Verified</td>\n",
              "    </tr>\n",
              "    <tr>\n",
              "      <th>2</th>\n",
              "      <td>36 months</td>\n",
              "      <td>RENT</td>\n",
              "      <td>small_business</td>\n",
              "      <td>Not Verified</td>\n",
              "    </tr>\n",
              "    <tr>\n",
              "      <th>3</th>\n",
              "      <td>36 months</td>\n",
              "      <td>RENT</td>\n",
              "      <td>other</td>\n",
              "      <td>Source Verified</td>\n",
              "    </tr>\n",
              "    <tr>\n",
              "      <th>4</th>\n",
              "      <td>36 months</td>\n",
              "      <td>RENT</td>\n",
              "      <td>wedding</td>\n",
              "      <td>Source Verified</td>\n",
              "    </tr>\n",
              "  </tbody>\n",
              "</table>\n",
              "</div>"
            ],
            "text/plain": [
              "         term home_ownership         purpose verification_status\n",
              "0   36 months           RENT     credit_card            Verified\n",
              "1   60 months           RENT             car     Source Verified\n",
              "2   36 months           RENT  small_business        Not Verified\n",
              "3   36 months           RENT           other     Source Verified\n",
              "4   36 months           RENT         wedding     Source Verified"
            ]
          },
          "metadata": {
            "tags": []
          },
          "execution_count": 100
        }
      ]
    },
    {
      "cell_type": "code",
      "metadata": {
        "colab": {
          "base_uri": "https://localhost:8080/",
          "height": 222
        },
        "id": "WM6Qehsuv-aI",
        "outputId": "d1d52794-f3db-45c2-db7f-ce668a642f79"
      },
      "source": [
        "data_numerical=pd.DataFrame()\r\n",
        "for col in numerical_features:\r\n",
        "    data_numerical=pd.concat([ data_numerical, data[col]], axis= 1)\r\n",
        "\r\n",
        "data_numerical.head()"
      ],
      "execution_count": null,
      "outputs": [
        {
          "output_type": "execute_result",
          "data": {
            "text/html": [
              "<div>\n",
              "<style scoped>\n",
              "    .dataframe tbody tr th:only-of-type {\n",
              "        vertical-align: middle;\n",
              "    }\n",
              "\n",
              "    .dataframe tbody tr th {\n",
              "        vertical-align: top;\n",
              "    }\n",
              "\n",
              "    .dataframe thead th {\n",
              "        text-align: right;\n",
              "    }\n",
              "</style>\n",
              "<table border=\"1\" class=\"dataframe\">\n",
              "  <thead>\n",
              "    <tr style=\"text-align: right;\">\n",
              "      <th></th>\n",
              "      <th>loan_amnt</th>\n",
              "      <th>installment</th>\n",
              "      <th>int_rate</th>\n",
              "      <th>emp_length</th>\n",
              "      <th>annual_inc</th>\n",
              "      <th>pub_rec</th>\n",
              "      <th>earliest_cr_line</th>\n",
              "      <th>delinq_2yrs</th>\n",
              "      <th>revol_util</th>\n",
              "      <th>revol_bal</th>\n",
              "      <th>open_acc</th>\n",
              "      <th>inq_last_6mths</th>\n",
              "      <th>dti</th>\n",
              "      <th>tax_liens</th>\n",
              "      <th>last_credit_pull_d</th>\n",
              "      <th>pub_rec_bankruptcies</th>\n",
              "    </tr>\n",
              "  </thead>\n",
              "  <tbody>\n",
              "    <tr>\n",
              "      <th>0</th>\n",
              "      <td>5000.0</td>\n",
              "      <td>162.87</td>\n",
              "      <td>10.65%</td>\n",
              "      <td>10+ years</td>\n",
              "      <td>24000.0</td>\n",
              "      <td>0.0</td>\n",
              "      <td>Jan-1985</td>\n",
              "      <td>0.0</td>\n",
              "      <td>83.7%</td>\n",
              "      <td>13648.0</td>\n",
              "      <td>3.0</td>\n",
              "      <td>1.0</td>\n",
              "      <td>27.65</td>\n",
              "      <td>0.0</td>\n",
              "      <td>Jun-2016</td>\n",
              "      <td>0.0</td>\n",
              "    </tr>\n",
              "    <tr>\n",
              "      <th>1</th>\n",
              "      <td>2500.0</td>\n",
              "      <td>59.83</td>\n",
              "      <td>15.27%</td>\n",
              "      <td>&lt; 1 year</td>\n",
              "      <td>30000.0</td>\n",
              "      <td>0.0</td>\n",
              "      <td>Apr-1999</td>\n",
              "      <td>0.0</td>\n",
              "      <td>9.4%</td>\n",
              "      <td>1687.0</td>\n",
              "      <td>3.0</td>\n",
              "      <td>5.0</td>\n",
              "      <td>1.00</td>\n",
              "      <td>0.0</td>\n",
              "      <td>Sep-2013</td>\n",
              "      <td>0.0</td>\n",
              "    </tr>\n",
              "    <tr>\n",
              "      <th>2</th>\n",
              "      <td>2400.0</td>\n",
              "      <td>84.33</td>\n",
              "      <td>15.96%</td>\n",
              "      <td>10+ years</td>\n",
              "      <td>12252.0</td>\n",
              "      <td>0.0</td>\n",
              "      <td>Nov-2001</td>\n",
              "      <td>0.0</td>\n",
              "      <td>98.5%</td>\n",
              "      <td>2956.0</td>\n",
              "      <td>2.0</td>\n",
              "      <td>2.0</td>\n",
              "      <td>8.72</td>\n",
              "      <td>0.0</td>\n",
              "      <td>Jun-2016</td>\n",
              "      <td>0.0</td>\n",
              "    </tr>\n",
              "    <tr>\n",
              "      <th>3</th>\n",
              "      <td>10000.0</td>\n",
              "      <td>339.31</td>\n",
              "      <td>13.49%</td>\n",
              "      <td>10+ years</td>\n",
              "      <td>49200.0</td>\n",
              "      <td>0.0</td>\n",
              "      <td>Feb-1996</td>\n",
              "      <td>0.0</td>\n",
              "      <td>21%</td>\n",
              "      <td>5598.0</td>\n",
              "      <td>10.0</td>\n",
              "      <td>1.0</td>\n",
              "      <td>20.00</td>\n",
              "      <td>0.0</td>\n",
              "      <td>Apr-2016</td>\n",
              "      <td>0.0</td>\n",
              "    </tr>\n",
              "    <tr>\n",
              "      <th>4</th>\n",
              "      <td>5000.0</td>\n",
              "      <td>156.46</td>\n",
              "      <td>7.90%</td>\n",
              "      <td>3 years</td>\n",
              "      <td>36000.0</td>\n",
              "      <td>0.0</td>\n",
              "      <td>Nov-2004</td>\n",
              "      <td>0.0</td>\n",
              "      <td>28.3%</td>\n",
              "      <td>7963.0</td>\n",
              "      <td>9.0</td>\n",
              "      <td>3.0</td>\n",
              "      <td>11.20</td>\n",
              "      <td>0.0</td>\n",
              "      <td>Jan-2016</td>\n",
              "      <td>0.0</td>\n",
              "    </tr>\n",
              "  </tbody>\n",
              "</table>\n",
              "</div>"
            ],
            "text/plain": [
              "   loan_amnt  installment  ... last_credit_pull_d pub_rec_bankruptcies\n",
              "0     5000.0       162.87  ...           Jun-2016                  0.0\n",
              "1     2500.0        59.83  ...           Sep-2013                  0.0\n",
              "2     2400.0        84.33  ...           Jun-2016                  0.0\n",
              "3    10000.0       339.31  ...           Apr-2016                  0.0\n",
              "4     5000.0       156.46  ...           Jan-2016                  0.0\n",
              "\n",
              "[5 rows x 16 columns]"
            ]
          },
          "metadata": {
            "tags": []
          },
          "execution_count": 101
        }
      ]
    },
    {
      "cell_type": "code",
      "metadata": {
        "colab": {
          "base_uri": "https://localhost:8080/"
        },
        "id": "E5ceBkudwHNE",
        "outputId": "7acfcf9f-a1b9-40a8-928d-960711bc0140"
      },
      "source": [
        "data_numerical.isna().sum()"
      ],
      "execution_count": null,
      "outputs": [
        {
          "output_type": "execute_result",
          "data": {
            "text/plain": [
              "loan_amnt               0\n",
              "installment             0\n",
              "int_rate                0\n",
              "emp_length              0\n",
              "annual_inc              0\n",
              "pub_rec                 0\n",
              "earliest_cr_line        0\n",
              "delinq_2yrs             0\n",
              "revol_util              0\n",
              "revol_bal               0\n",
              "open_acc                0\n",
              "inq_last_6mths          0\n",
              "dti                     0\n",
              "tax_liens               0\n",
              "last_credit_pull_d      0\n",
              "pub_rec_bankruptcies    0\n",
              "dtype: int64"
            ]
          },
          "metadata": {
            "tags": []
          },
          "execution_count": 102
        }
      ]
    },
    {
      "cell_type": "code",
      "metadata": {
        "id": "IbEAbywKwHm_"
      },
      "source": [
        "data_numerical['revol_util']=data_numerical['revol_util'].str.strip('%').astype(float)"
      ],
      "execution_count": null,
      "outputs": []
    },
    {
      "cell_type": "code",
      "metadata": {
        "id": "bEKYpKW6wHpd"
      },
      "source": [
        "data_numerical['int_rate']=data_numerical['int_rate'].str.strip('%').astype(float)"
      ],
      "execution_count": null,
      "outputs": []
    },
    {
      "cell_type": "code",
      "metadata": {
        "id": "7HoDlt3vwHrX"
      },
      "source": [
        "for col in ['last_credit_pull_d', 'earliest_cr_line']:\r\n",
        "    data_numerical[col] = pd.DatetimeIndex(data_numerical[col]).astype(np.int64)*1e-9"
      ],
      "execution_count": null,
      "outputs": []
    },
    {
      "cell_type": "code",
      "metadata": {
        "colab": {
          "base_uri": "https://localhost:8080/"
        },
        "id": "AGHhNRpUwHth",
        "outputId": "ef61d5c1-76fd-4dec-f58a-e480d281e50d"
      },
      "source": [
        "data_numerical.emp_length.unique()"
      ],
      "execution_count": null,
      "outputs": [
        {
          "output_type": "execute_result",
          "data": {
            "text/plain": [
              "array(['10+ years', '< 1 year', '3 years', '8 years', '9 years',\n",
              "       '4 years', '5 years', '1 year', '6 years', '2 years', '7 years'],\n",
              "      dtype=object)"
            ]
          },
          "metadata": {
            "tags": []
          },
          "execution_count": 106
        }
      ]
    },
    {
      "cell_type": "code",
      "metadata": {
        "id": "shQKu6DmwkQM"
      },
      "source": [
        "mapping_dict = {\r\n",
        "    'emp_length': {\r\n",
        "        '10+ years': 10,\r\n",
        "        '9 years': 9,\r\n",
        "        '8 years': 8,\r\n",
        "        '7 years': 7,\r\n",
        "        '6 years': 6,\r\n",
        "        '5 years': 5,\r\n",
        "        '4 years': 4,\r\n",
        "        '3 years': 3,\r\n",
        "        '2 years': 2,\r\n",
        "        '1 year': 1,\r\n",
        "        '< 1 year': 0,\r\n",
        "    }\r\n",
        "}\r\n",
        "\r\n",
        "data_numerical.replace(mapping_dict, inplace=True)"
      ],
      "execution_count": null,
      "outputs": []
    },
    {
      "cell_type": "code",
      "metadata": {
        "colab": {
          "base_uri": "https://localhost:8080/",
          "height": 222
        },
        "id": "BPhYlXl2wkUb",
        "outputId": "b3b3cc1b-92d7-44dd-ec51-c46aa6b8d174"
      },
      "source": [
        "data_numerical.head()"
      ],
      "execution_count": null,
      "outputs": [
        {
          "output_type": "execute_result",
          "data": {
            "text/html": [
              "<div>\n",
              "<style scoped>\n",
              "    .dataframe tbody tr th:only-of-type {\n",
              "        vertical-align: middle;\n",
              "    }\n",
              "\n",
              "    .dataframe tbody tr th {\n",
              "        vertical-align: top;\n",
              "    }\n",
              "\n",
              "    .dataframe thead th {\n",
              "        text-align: right;\n",
              "    }\n",
              "</style>\n",
              "<table border=\"1\" class=\"dataframe\">\n",
              "  <thead>\n",
              "    <tr style=\"text-align: right;\">\n",
              "      <th></th>\n",
              "      <th>loan_amnt</th>\n",
              "      <th>installment</th>\n",
              "      <th>int_rate</th>\n",
              "      <th>emp_length</th>\n",
              "      <th>annual_inc</th>\n",
              "      <th>pub_rec</th>\n",
              "      <th>earliest_cr_line</th>\n",
              "      <th>delinq_2yrs</th>\n",
              "      <th>revol_util</th>\n",
              "      <th>revol_bal</th>\n",
              "      <th>open_acc</th>\n",
              "      <th>inq_last_6mths</th>\n",
              "      <th>dti</th>\n",
              "      <th>tax_liens</th>\n",
              "      <th>last_credit_pull_d</th>\n",
              "      <th>pub_rec_bankruptcies</th>\n",
              "    </tr>\n",
              "  </thead>\n",
              "  <tbody>\n",
              "    <tr>\n",
              "      <th>0</th>\n",
              "      <td>5000.0</td>\n",
              "      <td>162.87</td>\n",
              "      <td>10.65</td>\n",
              "      <td>10</td>\n",
              "      <td>24000.0</td>\n",
              "      <td>0.0</td>\n",
              "      <td>4.733856e+08</td>\n",
              "      <td>0.0</td>\n",
              "      <td>83.7</td>\n",
              "      <td>13648.0</td>\n",
              "      <td>3.0</td>\n",
              "      <td>1.0</td>\n",
              "      <td>27.65</td>\n",
              "      <td>0.0</td>\n",
              "      <td>1.464739e+09</td>\n",
              "      <td>0.0</td>\n",
              "    </tr>\n",
              "    <tr>\n",
              "      <th>1</th>\n",
              "      <td>2500.0</td>\n",
              "      <td>59.83</td>\n",
              "      <td>15.27</td>\n",
              "      <td>0</td>\n",
              "      <td>30000.0</td>\n",
              "      <td>0.0</td>\n",
              "      <td>9.229248e+08</td>\n",
              "      <td>0.0</td>\n",
              "      <td>9.4</td>\n",
              "      <td>1687.0</td>\n",
              "      <td>3.0</td>\n",
              "      <td>5.0</td>\n",
              "      <td>1.00</td>\n",
              "      <td>0.0</td>\n",
              "      <td>1.377994e+09</td>\n",
              "      <td>0.0</td>\n",
              "    </tr>\n",
              "    <tr>\n",
              "      <th>2</th>\n",
              "      <td>2400.0</td>\n",
              "      <td>84.33</td>\n",
              "      <td>15.96</td>\n",
              "      <td>10</td>\n",
              "      <td>12252.0</td>\n",
              "      <td>0.0</td>\n",
              "      <td>1.004573e+09</td>\n",
              "      <td>0.0</td>\n",
              "      <td>98.5</td>\n",
              "      <td>2956.0</td>\n",
              "      <td>2.0</td>\n",
              "      <td>2.0</td>\n",
              "      <td>8.72</td>\n",
              "      <td>0.0</td>\n",
              "      <td>1.464739e+09</td>\n",
              "      <td>0.0</td>\n",
              "    </tr>\n",
              "    <tr>\n",
              "      <th>3</th>\n",
              "      <td>10000.0</td>\n",
              "      <td>339.31</td>\n",
              "      <td>13.49</td>\n",
              "      <td>10</td>\n",
              "      <td>49200.0</td>\n",
              "      <td>0.0</td>\n",
              "      <td>8.231328e+08</td>\n",
              "      <td>0.0</td>\n",
              "      <td>21.0</td>\n",
              "      <td>5598.0</td>\n",
              "      <td>10.0</td>\n",
              "      <td>1.0</td>\n",
              "      <td>20.00</td>\n",
              "      <td>0.0</td>\n",
              "      <td>1.459469e+09</td>\n",
              "      <td>0.0</td>\n",
              "    </tr>\n",
              "    <tr>\n",
              "      <th>4</th>\n",
              "      <td>5000.0</td>\n",
              "      <td>156.46</td>\n",
              "      <td>7.90</td>\n",
              "      <td>3</td>\n",
              "      <td>36000.0</td>\n",
              "      <td>0.0</td>\n",
              "      <td>1.099267e+09</td>\n",
              "      <td>0.0</td>\n",
              "      <td>28.3</td>\n",
              "      <td>7963.0</td>\n",
              "      <td>9.0</td>\n",
              "      <td>3.0</td>\n",
              "      <td>11.20</td>\n",
              "      <td>0.0</td>\n",
              "      <td>1.451606e+09</td>\n",
              "      <td>0.0</td>\n",
              "    </tr>\n",
              "  </tbody>\n",
              "</table>\n",
              "</div>"
            ],
            "text/plain": [
              "   loan_amnt  installment  ...  last_credit_pull_d  pub_rec_bankruptcies\n",
              "0     5000.0       162.87  ...        1.464739e+09                   0.0\n",
              "1     2500.0        59.83  ...        1.377994e+09                   0.0\n",
              "2     2400.0        84.33  ...        1.464739e+09                   0.0\n",
              "3    10000.0       339.31  ...        1.459469e+09                   0.0\n",
              "4     5000.0       156.46  ...        1.451606e+09                   0.0\n",
              "\n",
              "[5 rows x 16 columns]"
            ]
          },
          "metadata": {
            "tags": []
          },
          "execution_count": 108
        }
      ]
    },
    {
      "cell_type": "code",
      "metadata": {
        "id": "Xu8efcMEwkY9"
      },
      "source": [
        "for col in data_numerical.columns:\r\n",
        "    data_numerical[col].astype(float)"
      ],
      "execution_count": null,
      "outputs": []
    },
    {
      "cell_type": "code",
      "metadata": {
        "colab": {
          "base_uri": "https://localhost:8080/",
          "height": 314
        },
        "id": "dOWnTEEywy3l",
        "outputId": "a8217c2d-b980-449b-ec75-fefb2233c247"
      },
      "source": [
        "data_numerical.describe()\r\n"
      ],
      "execution_count": null,
      "outputs": [
        {
          "output_type": "execute_result",
          "data": {
            "text/html": [
              "<div>\n",
              "<style scoped>\n",
              "    .dataframe tbody tr th:only-of-type {\n",
              "        vertical-align: middle;\n",
              "    }\n",
              "\n",
              "    .dataframe tbody tr th {\n",
              "        vertical-align: top;\n",
              "    }\n",
              "\n",
              "    .dataframe thead th {\n",
              "        text-align: right;\n",
              "    }\n",
              "</style>\n",
              "<table border=\"1\" class=\"dataframe\">\n",
              "  <thead>\n",
              "    <tr style=\"text-align: right;\">\n",
              "      <th></th>\n",
              "      <th>loan_amnt</th>\n",
              "      <th>installment</th>\n",
              "      <th>int_rate</th>\n",
              "      <th>emp_length</th>\n",
              "      <th>annual_inc</th>\n",
              "      <th>pub_rec</th>\n",
              "      <th>earliest_cr_line</th>\n",
              "      <th>delinq_2yrs</th>\n",
              "      <th>revol_util</th>\n",
              "      <th>revol_bal</th>\n",
              "      <th>open_acc</th>\n",
              "      <th>inq_last_6mths</th>\n",
              "      <th>dti</th>\n",
              "      <th>tax_liens</th>\n",
              "      <th>last_credit_pull_d</th>\n",
              "      <th>pub_rec_bankruptcies</th>\n",
              "    </tr>\n",
              "  </thead>\n",
              "  <tbody>\n",
              "    <tr>\n",
              "      <th>count</th>\n",
              "      <td>36989.000000</td>\n",
              "      <td>36989.000000</td>\n",
              "      <td>36989.000000</td>\n",
              "      <td>36989.000000</td>\n",
              "      <td>3.698900e+04</td>\n",
              "      <td>36989.000000</td>\n",
              "      <td>3.698900e+04</td>\n",
              "      <td>36989.000000</td>\n",
              "      <td>36989.000000</td>\n",
              "      <td>36989.000000</td>\n",
              "      <td>36989.000000</td>\n",
              "      <td>36989.000000</td>\n",
              "      <td>36989.00000</td>\n",
              "      <td>36989.0</td>\n",
              "      <td>3.698900e+04</td>\n",
              "      <td>36989.000000</td>\n",
              "    </tr>\n",
              "    <tr>\n",
              "      <th>mean</th>\n",
              "      <td>11172.230258</td>\n",
              "      <td>325.073393</td>\n",
              "      <td>11.999874</td>\n",
              "      <td>4.967477</td>\n",
              "      <td>6.945609e+04</td>\n",
              "      <td>0.054178</td>\n",
              "      <td>8.598158e+08</td>\n",
              "      <td>0.146152</td>\n",
              "      <td>48.999896</td>\n",
              "      <td>13381.643462</td>\n",
              "      <td>9.305848</td>\n",
              "      <td>0.869502</td>\n",
              "      <td>13.33784</td>\n",
              "      <td>0.0</td>\n",
              "      <td>1.411559e+09</td>\n",
              "      <td>0.041850</td>\n",
              "    </tr>\n",
              "    <tr>\n",
              "      <th>std</th>\n",
              "      <td>7383.992200</td>\n",
              "      <td>208.844669</td>\n",
              "      <td>3.707859</td>\n",
              "      <td>3.552827</td>\n",
              "      <td>6.396466e+04</td>\n",
              "      <td>0.235504</td>\n",
              "      <td>2.093383e+08</td>\n",
              "      <td>0.491792</td>\n",
              "      <td>28.310762</td>\n",
              "      <td>15844.117774</td>\n",
              "      <td>4.376308</td>\n",
              "      <td>1.067945</td>\n",
              "      <td>6.65307</td>\n",
              "      <td>0.0</td>\n",
              "      <td>5.408894e+07</td>\n",
              "      <td>0.200924</td>\n",
              "    </tr>\n",
              "    <tr>\n",
              "      <th>min</th>\n",
              "      <td>500.000000</td>\n",
              "      <td>16.080000</td>\n",
              "      <td>5.420000</td>\n",
              "      <td>0.000000</td>\n",
              "      <td>4.000000e+03</td>\n",
              "      <td>0.000000</td>\n",
              "      <td>-7.573824e+08</td>\n",
              "      <td>0.000000</td>\n",
              "      <td>0.000000</td>\n",
              "      <td>0.000000</td>\n",
              "      <td>2.000000</td>\n",
              "      <td>0.000000</td>\n",
              "      <td>0.00000</td>\n",
              "      <td>0.0</td>\n",
              "      <td>1.185926e+09</td>\n",
              "      <td>0.000000</td>\n",
              "    </tr>\n",
              "    <tr>\n",
              "      <th>25%</th>\n",
              "      <td>5500.000000</td>\n",
              "      <td>167.730000</td>\n",
              "      <td>8.940000</td>\n",
              "      <td>2.000000</td>\n",
              "      <td>4.120000e+04</td>\n",
              "      <td>0.000000</td>\n",
              "      <td>7.573824e+08</td>\n",
              "      <td>0.000000</td>\n",
              "      <td>25.600000</td>\n",
              "      <td>3730.000000</td>\n",
              "      <td>6.000000</td>\n",
              "      <td>0.000000</td>\n",
              "      <td>8.22000</td>\n",
              "      <td>0.0</td>\n",
              "      <td>1.370045e+09</td>\n",
              "      <td>0.000000</td>\n",
              "    </tr>\n",
              "    <tr>\n",
              "      <th>50%</th>\n",
              "      <td>10000.000000</td>\n",
              "      <td>280.610000</td>\n",
              "      <td>11.860000</td>\n",
              "      <td>4.000000</td>\n",
              "      <td>6.000000e+04</td>\n",
              "      <td>0.000000</td>\n",
              "      <td>8.992512e+08</td>\n",
              "      <td>0.000000</td>\n",
              "      <td>49.500000</td>\n",
              "      <td>8885.000000</td>\n",
              "      <td>9.000000</td>\n",
              "      <td>1.000000</td>\n",
              "      <td>13.43000</td>\n",
              "      <td>0.0</td>\n",
              "      <td>1.425168e+09</td>\n",
              "      <td>0.000000</td>\n",
              "    </tr>\n",
              "    <tr>\n",
              "      <th>75%</th>\n",
              "      <td>15000.000000</td>\n",
              "      <td>429.990000</td>\n",
              "      <td>14.540000</td>\n",
              "      <td>9.000000</td>\n",
              "      <td>8.300000e+04</td>\n",
              "      <td>0.000000</td>\n",
              "      <td>1.001894e+09</td>\n",
              "      <td>0.000000</td>\n",
              "      <td>72.500000</td>\n",
              "      <td>17043.000000</td>\n",
              "      <td>12.000000</td>\n",
              "      <td>1.000000</td>\n",
              "      <td>18.60000</td>\n",
              "      <td>0.0</td>\n",
              "      <td>1.464739e+09</td>\n",
              "      <td>0.000000</td>\n",
              "    </tr>\n",
              "    <tr>\n",
              "      <th>max</th>\n",
              "      <td>35000.000000</td>\n",
              "      <td>1305.190000</td>\n",
              "      <td>24.590000</td>\n",
              "      <td>10.000000</td>\n",
              "      <td>6.000000e+06</td>\n",
              "      <td>4.000000</td>\n",
              "      <td>1.225498e+09</td>\n",
              "      <td>11.000000</td>\n",
              "      <td>99.900000</td>\n",
              "      <td>149588.000000</td>\n",
              "      <td>44.000000</td>\n",
              "      <td>8.000000</td>\n",
              "      <td>29.99000</td>\n",
              "      <td>0.0</td>\n",
              "      <td>1.464739e+09</td>\n",
              "      <td>2.000000</td>\n",
              "    </tr>\n",
              "  </tbody>\n",
              "</table>\n",
              "</div>"
            ],
            "text/plain": [
              "          loan_amnt   installment  ...  last_credit_pull_d  pub_rec_bankruptcies\n",
              "count  36989.000000  36989.000000  ...        3.698900e+04          36989.000000\n",
              "mean   11172.230258    325.073393  ...        1.411559e+09              0.041850\n",
              "std     7383.992200    208.844669  ...        5.408894e+07              0.200924\n",
              "min      500.000000     16.080000  ...        1.185926e+09              0.000000\n",
              "25%     5500.000000    167.730000  ...        1.370045e+09              0.000000\n",
              "50%    10000.000000    280.610000  ...        1.425168e+09              0.000000\n",
              "75%    15000.000000    429.990000  ...        1.464739e+09              0.000000\n",
              "max    35000.000000   1305.190000  ...        1.464739e+09              2.000000\n",
              "\n",
              "[8 rows x 16 columns]"
            ]
          },
          "metadata": {
            "tags": []
          },
          "execution_count": 110
        }
      ]
    },
    {
      "cell_type": "code",
      "metadata": {
        "colab": {
          "base_uri": "https://localhost:8080/"
        },
        "id": "ZfEk44t2wy54",
        "outputId": "835f0c16-7dde-40a6-dd8c-70f264670b9d"
      },
      "source": [
        "data_categorical.isna().sum()"
      ],
      "execution_count": null,
      "outputs": [
        {
          "output_type": "execute_result",
          "data": {
            "text/plain": [
              "term                   0\n",
              "home_ownership         0\n",
              "purpose                0\n",
              "verification_status    0\n",
              "dtype: int64"
            ]
          },
          "metadata": {
            "tags": []
          },
          "execution_count": 111
        }
      ]
    },
    {
      "cell_type": "code",
      "metadata": {
        "colab": {
          "base_uri": "https://localhost:8080/"
        },
        "id": "4XRwEbG8wy9f",
        "outputId": "f7af34aa-ecbf-43c2-a682-d54836e7d4ca"
      },
      "source": [
        "data_categorical.info()\r\n"
      ],
      "execution_count": null,
      "outputs": [
        {
          "output_type": "stream",
          "text": [
            "<class 'pandas.core.frame.DataFrame'>\n",
            "Index: 36989 entries, 0 to 36988\n",
            "Data columns (total 4 columns):\n",
            " #   Column               Non-Null Count  Dtype \n",
            "---  ------               --------------  ----- \n",
            " 0   term                 36989 non-null  object\n",
            " 1   home_ownership       36989 non-null  object\n",
            " 2   purpose              36989 non-null  object\n",
            " 3   verification_status  36989 non-null  object\n",
            "dtypes: object(4)\n",
            "memory usage: 1.4+ MB\n"
          ],
          "name": "stdout"
        }
      ]
    },
    {
      "cell_type": "code",
      "metadata": {
        "colab": {
          "base_uri": "https://localhost:8080/"
        },
        "id": "7bSbDnnXwkbt",
        "outputId": "caba3cf6-c3a0-4691-e8a0-25caca824e24"
      },
      "source": [
        "for col in data_categorical.columns:\r\n",
        "    print(col,'\\n'*2,data_categorical[col].unique(),'\\n'*3)"
      ],
      "execution_count": null,
      "outputs": [
        {
          "output_type": "stream",
          "text": [
            "term \n",
            "\n",
            " [' 36 months' ' 60 months'] \n",
            "\n",
            "\n",
            "\n",
            "home_ownership \n",
            "\n",
            " ['RENT' 'OWN' 'MORTGAGE' 'OTHER'] \n",
            "\n",
            "\n",
            "\n",
            "purpose \n",
            "\n",
            " ['credit_card' 'car' 'small_business' 'other' 'wedding'\n",
            " 'debt_consolidation' 'home_improvement' 'major_purchase' 'medical'\n",
            " 'moving' 'vacation' 'house' 'renewable_energy' 'educational'] \n",
            "\n",
            "\n",
            "\n",
            "verification_status \n",
            "\n",
            " ['Verified' 'Source Verified' 'Not Verified'] \n",
            "\n",
            "\n",
            "\n"
          ],
          "name": "stdout"
        }
      ]
    },
    {
      "cell_type": "code",
      "metadata": {
        "id": "BfwI5rkDxDpz"
      },
      "source": [
        "data_numerical.drop(columns='tax_liens',axis=1, inplace=True)"
      ],
      "execution_count": null,
      "outputs": []
    },
    {
      "cell_type": "code",
      "metadata": {
        "colab": {
          "base_uri": "https://localhost:8080/",
          "height": 202
        },
        "id": "SIhkungBxDzM",
        "outputId": "1aa46dd7-7ba9-4c64-fe40-c8a175a35c00"
      },
      "source": [
        "data_categorical.head()"
      ],
      "execution_count": null,
      "outputs": [
        {
          "output_type": "execute_result",
          "data": {
            "text/html": [
              "<div>\n",
              "<style scoped>\n",
              "    .dataframe tbody tr th:only-of-type {\n",
              "        vertical-align: middle;\n",
              "    }\n",
              "\n",
              "    .dataframe tbody tr th {\n",
              "        vertical-align: top;\n",
              "    }\n",
              "\n",
              "    .dataframe thead th {\n",
              "        text-align: right;\n",
              "    }\n",
              "</style>\n",
              "<table border=\"1\" class=\"dataframe\">\n",
              "  <thead>\n",
              "    <tr style=\"text-align: right;\">\n",
              "      <th></th>\n",
              "      <th>term</th>\n",
              "      <th>home_ownership</th>\n",
              "      <th>purpose</th>\n",
              "      <th>verification_status</th>\n",
              "    </tr>\n",
              "  </thead>\n",
              "  <tbody>\n",
              "    <tr>\n",
              "      <th>0</th>\n",
              "      <td>36 months</td>\n",
              "      <td>RENT</td>\n",
              "      <td>credit_card</td>\n",
              "      <td>Verified</td>\n",
              "    </tr>\n",
              "    <tr>\n",
              "      <th>1</th>\n",
              "      <td>60 months</td>\n",
              "      <td>RENT</td>\n",
              "      <td>car</td>\n",
              "      <td>Source Verified</td>\n",
              "    </tr>\n",
              "    <tr>\n",
              "      <th>2</th>\n",
              "      <td>36 months</td>\n",
              "      <td>RENT</td>\n",
              "      <td>small_business</td>\n",
              "      <td>Not Verified</td>\n",
              "    </tr>\n",
              "    <tr>\n",
              "      <th>3</th>\n",
              "      <td>36 months</td>\n",
              "      <td>RENT</td>\n",
              "      <td>other</td>\n",
              "      <td>Source Verified</td>\n",
              "    </tr>\n",
              "    <tr>\n",
              "      <th>4</th>\n",
              "      <td>36 months</td>\n",
              "      <td>RENT</td>\n",
              "      <td>wedding</td>\n",
              "      <td>Source Verified</td>\n",
              "    </tr>\n",
              "  </tbody>\n",
              "</table>\n",
              "</div>"
            ],
            "text/plain": [
              "         term home_ownership         purpose verification_status\n",
              "0   36 months           RENT     credit_card            Verified\n",
              "1   60 months           RENT             car     Source Verified\n",
              "2   36 months           RENT  small_business        Not Verified\n",
              "3   36 months           RENT           other     Source Verified\n",
              "4   36 months           RENT         wedding     Source Verified"
            ]
          },
          "metadata": {
            "tags": []
          },
          "execution_count": 115
        }
      ]
    },
    {
      "cell_type": "code",
      "metadata": {
        "id": "HsrnkLryxD2w"
      },
      "source": [
        "for col in data_categorical.columns:\r\n",
        "    dummies = pd.get_dummies(data_categorical[col])\r\n",
        "    dummies.drop(dummies.columns[-1],axis=1,inplace=True)# dropping one of each to reduce multicoloniearity\r\n",
        "    data_categorical = pd.concat([data_categorical, dummies], axis=1)\r\n",
        "    data_categorical.drop(col, axis=1, inplace=True)"
      ],
      "execution_count": null,
      "outputs": []
    },
    {
      "cell_type": "code",
      "metadata": {
        "colab": {
          "base_uri": "https://localhost:8080/",
          "height": 239
        },
        "id": "mLJRYXkmxQK7",
        "outputId": "0ee2c15a-ef93-432c-c7fa-eedd35af4906"
      },
      "source": [
        "data_categorical.head()"
      ],
      "execution_count": null,
      "outputs": [
        {
          "output_type": "execute_result",
          "data": {
            "text/html": [
              "<div>\n",
              "<style scoped>\n",
              "    .dataframe tbody tr th:only-of-type {\n",
              "        vertical-align: middle;\n",
              "    }\n",
              "\n",
              "    .dataframe tbody tr th {\n",
              "        vertical-align: top;\n",
              "    }\n",
              "\n",
              "    .dataframe thead th {\n",
              "        text-align: right;\n",
              "    }\n",
              "</style>\n",
              "<table border=\"1\" class=\"dataframe\">\n",
              "  <thead>\n",
              "    <tr style=\"text-align: right;\">\n",
              "      <th></th>\n",
              "      <th>36 months</th>\n",
              "      <th>MORTGAGE</th>\n",
              "      <th>OTHER</th>\n",
              "      <th>OWN</th>\n",
              "      <th>car</th>\n",
              "      <th>credit_card</th>\n",
              "      <th>debt_consolidation</th>\n",
              "      <th>educational</th>\n",
              "      <th>home_improvement</th>\n",
              "      <th>house</th>\n",
              "      <th>major_purchase</th>\n",
              "      <th>medical</th>\n",
              "      <th>moving</th>\n",
              "      <th>other</th>\n",
              "      <th>renewable_energy</th>\n",
              "      <th>small_business</th>\n",
              "      <th>vacation</th>\n",
              "      <th>Not Verified</th>\n",
              "      <th>Source Verified</th>\n",
              "    </tr>\n",
              "  </thead>\n",
              "  <tbody>\n",
              "    <tr>\n",
              "      <th>0</th>\n",
              "      <td>1</td>\n",
              "      <td>0</td>\n",
              "      <td>0</td>\n",
              "      <td>0</td>\n",
              "      <td>0</td>\n",
              "      <td>1</td>\n",
              "      <td>0</td>\n",
              "      <td>0</td>\n",
              "      <td>0</td>\n",
              "      <td>0</td>\n",
              "      <td>0</td>\n",
              "      <td>0</td>\n",
              "      <td>0</td>\n",
              "      <td>0</td>\n",
              "      <td>0</td>\n",
              "      <td>0</td>\n",
              "      <td>0</td>\n",
              "      <td>0</td>\n",
              "      <td>0</td>\n",
              "    </tr>\n",
              "    <tr>\n",
              "      <th>1</th>\n",
              "      <td>0</td>\n",
              "      <td>0</td>\n",
              "      <td>0</td>\n",
              "      <td>0</td>\n",
              "      <td>1</td>\n",
              "      <td>0</td>\n",
              "      <td>0</td>\n",
              "      <td>0</td>\n",
              "      <td>0</td>\n",
              "      <td>0</td>\n",
              "      <td>0</td>\n",
              "      <td>0</td>\n",
              "      <td>0</td>\n",
              "      <td>0</td>\n",
              "      <td>0</td>\n",
              "      <td>0</td>\n",
              "      <td>0</td>\n",
              "      <td>0</td>\n",
              "      <td>1</td>\n",
              "    </tr>\n",
              "    <tr>\n",
              "      <th>2</th>\n",
              "      <td>1</td>\n",
              "      <td>0</td>\n",
              "      <td>0</td>\n",
              "      <td>0</td>\n",
              "      <td>0</td>\n",
              "      <td>0</td>\n",
              "      <td>0</td>\n",
              "      <td>0</td>\n",
              "      <td>0</td>\n",
              "      <td>0</td>\n",
              "      <td>0</td>\n",
              "      <td>0</td>\n",
              "      <td>0</td>\n",
              "      <td>0</td>\n",
              "      <td>0</td>\n",
              "      <td>1</td>\n",
              "      <td>0</td>\n",
              "      <td>1</td>\n",
              "      <td>0</td>\n",
              "    </tr>\n",
              "    <tr>\n",
              "      <th>3</th>\n",
              "      <td>1</td>\n",
              "      <td>0</td>\n",
              "      <td>0</td>\n",
              "      <td>0</td>\n",
              "      <td>0</td>\n",
              "      <td>0</td>\n",
              "      <td>0</td>\n",
              "      <td>0</td>\n",
              "      <td>0</td>\n",
              "      <td>0</td>\n",
              "      <td>0</td>\n",
              "      <td>0</td>\n",
              "      <td>0</td>\n",
              "      <td>1</td>\n",
              "      <td>0</td>\n",
              "      <td>0</td>\n",
              "      <td>0</td>\n",
              "      <td>0</td>\n",
              "      <td>1</td>\n",
              "    </tr>\n",
              "    <tr>\n",
              "      <th>4</th>\n",
              "      <td>1</td>\n",
              "      <td>0</td>\n",
              "      <td>0</td>\n",
              "      <td>0</td>\n",
              "      <td>0</td>\n",
              "      <td>0</td>\n",
              "      <td>0</td>\n",
              "      <td>0</td>\n",
              "      <td>0</td>\n",
              "      <td>0</td>\n",
              "      <td>0</td>\n",
              "      <td>0</td>\n",
              "      <td>0</td>\n",
              "      <td>0</td>\n",
              "      <td>0</td>\n",
              "      <td>0</td>\n",
              "      <td>0</td>\n",
              "      <td>0</td>\n",
              "      <td>1</td>\n",
              "    </tr>\n",
              "  </tbody>\n",
              "</table>\n",
              "</div>"
            ],
            "text/plain": [
              "    36 months  MORTGAGE  OTHER  ...  vacation  Not Verified  Source Verified\n",
              "0           1         0      0  ...         0             0                0\n",
              "1           0         0      0  ...         0             0                1\n",
              "2           1         0      0  ...         0             1                0\n",
              "3           1         0      0  ...         0             0                1\n",
              "4           1         0      0  ...         0             0                1\n",
              "\n",
              "[5 rows x 19 columns]"
            ]
          },
          "metadata": {
            "tags": []
          },
          "execution_count": 117
        }
      ]
    },
    {
      "cell_type": "code",
      "metadata": {
        "id": "dv5hGrxoxQOi"
      },
      "source": [
        "for col in data_categorical.columns:\r\n",
        "    data_categorical[col].astype(int)"
      ],
      "execution_count": null,
      "outputs": []
    },
    {
      "cell_type": "code",
      "metadata": {
        "colab": {
          "base_uri": "https://localhost:8080/",
          "height": 255
        },
        "id": "QVwy1seMxQRn",
        "outputId": "2a6df2f6-e835-4624-d350-a9a3ebc47143"
      },
      "source": [
        "scaler = StandardScaler()\r\n",
        "scaled_num = pd.DataFrame(scaler.fit_transform(data_numerical),columns=data_numerical.columns)\r\n",
        "X=pd.concat([scaled_num,data_categorical],axis=1)\r\n",
        "y=data.loan_status\r\n",
        "print(X.shape, y.shape)\r\n",
        "X.head()"
      ],
      "execution_count": null,
      "outputs": [
        {
          "output_type": "stream",
          "text": [
            "(36989, 34) (36989,)\n"
          ],
          "name": "stdout"
        },
        {
          "output_type": "execute_result",
          "data": {
            "text/html": [
              "<div>\n",
              "<style scoped>\n",
              "    .dataframe tbody tr th:only-of-type {\n",
              "        vertical-align: middle;\n",
              "    }\n",
              "\n",
              "    .dataframe tbody tr th {\n",
              "        vertical-align: top;\n",
              "    }\n",
              "\n",
              "    .dataframe thead th {\n",
              "        text-align: right;\n",
              "    }\n",
              "</style>\n",
              "<table border=\"1\" class=\"dataframe\">\n",
              "  <thead>\n",
              "    <tr style=\"text-align: right;\">\n",
              "      <th></th>\n",
              "      <th>loan_amnt</th>\n",
              "      <th>installment</th>\n",
              "      <th>int_rate</th>\n",
              "      <th>emp_length</th>\n",
              "      <th>annual_inc</th>\n",
              "      <th>pub_rec</th>\n",
              "      <th>earliest_cr_line</th>\n",
              "      <th>delinq_2yrs</th>\n",
              "      <th>revol_util</th>\n",
              "      <th>revol_bal</th>\n",
              "      <th>open_acc</th>\n",
              "      <th>inq_last_6mths</th>\n",
              "      <th>dti</th>\n",
              "      <th>last_credit_pull_d</th>\n",
              "      <th>pub_rec_bankruptcies</th>\n",
              "      <th>36 months</th>\n",
              "      <th>MORTGAGE</th>\n",
              "      <th>OTHER</th>\n",
              "      <th>OWN</th>\n",
              "      <th>car</th>\n",
              "      <th>credit_card</th>\n",
              "      <th>debt_consolidation</th>\n",
              "      <th>educational</th>\n",
              "      <th>home_improvement</th>\n",
              "      <th>house</th>\n",
              "      <th>major_purchase</th>\n",
              "      <th>medical</th>\n",
              "      <th>moving</th>\n",
              "      <th>other</th>\n",
              "      <th>renewable_energy</th>\n",
              "      <th>small_business</th>\n",
              "      <th>vacation</th>\n",
              "      <th>Not Verified</th>\n",
              "      <th>Source Verified</th>\n",
              "    </tr>\n",
              "  </thead>\n",
              "  <tbody>\n",
              "    <tr>\n",
              "      <th>0</th>\n",
              "      <td>-0.835905</td>\n",
              "      <td>-0.776681</td>\n",
              "      <td>-0.364063</td>\n",
              "      <td>1.416503</td>\n",
              "      <td>-0.710653</td>\n",
              "      <td>-0.230056</td>\n",
              "      <td>-1.845986</td>\n",
              "      <td>-0.297185</td>\n",
              "      <td>1.225703</td>\n",
              "      <td>0.016811</td>\n",
              "      <td>-1.440925</td>\n",
              "      <td>0.122197</td>\n",
              "      <td>2.151240</td>\n",
              "      <td>0.983218</td>\n",
              "      <td>-0.208292</td>\n",
              "      <td>1</td>\n",
              "      <td>0</td>\n",
              "      <td>0</td>\n",
              "      <td>0</td>\n",
              "      <td>0</td>\n",
              "      <td>1</td>\n",
              "      <td>0</td>\n",
              "      <td>0</td>\n",
              "      <td>0</td>\n",
              "      <td>0</td>\n",
              "      <td>0</td>\n",
              "      <td>0</td>\n",
              "      <td>0</td>\n",
              "      <td>0</td>\n",
              "      <td>0</td>\n",
              "      <td>0</td>\n",
              "      <td>0</td>\n",
              "      <td>0</td>\n",
              "      <td>0</td>\n",
              "    </tr>\n",
              "    <tr>\n",
              "      <th>1</th>\n",
              "      <td>-1.174480</td>\n",
              "      <td>-1.270068</td>\n",
              "      <td>0.881956</td>\n",
              "      <td>-1.398195</td>\n",
              "      <td>-0.616850</td>\n",
              "      <td>-0.230056</td>\n",
              "      <td>0.301473</td>\n",
              "      <td>-0.297185</td>\n",
              "      <td>-1.398777</td>\n",
              "      <td>-0.738116</td>\n",
              "      <td>-1.440925</td>\n",
              "      <td>3.867758</td>\n",
              "      <td>-1.854483</td>\n",
              "      <td>-0.620563</td>\n",
              "      <td>-0.208292</td>\n",
              "      <td>0</td>\n",
              "      <td>0</td>\n",
              "      <td>0</td>\n",
              "      <td>0</td>\n",
              "      <td>1</td>\n",
              "      <td>0</td>\n",
              "      <td>0</td>\n",
              "      <td>0</td>\n",
              "      <td>0</td>\n",
              "      <td>0</td>\n",
              "      <td>0</td>\n",
              "      <td>0</td>\n",
              "      <td>0</td>\n",
              "      <td>0</td>\n",
              "      <td>0</td>\n",
              "      <td>0</td>\n",
              "      <td>0</td>\n",
              "      <td>0</td>\n",
              "      <td>1</td>\n",
              "    </tr>\n",
              "    <tr>\n",
              "      <th>2</th>\n",
              "      <td>-1.188022</td>\n",
              "      <td>-1.152755</td>\n",
              "      <td>1.068050</td>\n",
              "      <td>1.416503</td>\n",
              "      <td>-0.894320</td>\n",
              "      <td>-0.230056</td>\n",
              "      <td>0.691507</td>\n",
              "      <td>-0.297185</td>\n",
              "      <td>1.748479</td>\n",
              "      <td>-0.658022</td>\n",
              "      <td>-1.669431</td>\n",
              "      <td>1.058587</td>\n",
              "      <td>-0.694101</td>\n",
              "      <td>0.983218</td>\n",
              "      <td>-0.208292</td>\n",
              "      <td>1</td>\n",
              "      <td>0</td>\n",
              "      <td>0</td>\n",
              "      <td>0</td>\n",
              "      <td>0</td>\n",
              "      <td>0</td>\n",
              "      <td>0</td>\n",
              "      <td>0</td>\n",
              "      <td>0</td>\n",
              "      <td>0</td>\n",
              "      <td>0</td>\n",
              "      <td>0</td>\n",
              "      <td>0</td>\n",
              "      <td>0</td>\n",
              "      <td>0</td>\n",
              "      <td>1</td>\n",
              "      <td>0</td>\n",
              "      <td>1</td>\n",
              "      <td>0</td>\n",
              "    </tr>\n",
              "    <tr>\n",
              "      <th>3</th>\n",
              "      <td>-0.158755</td>\n",
              "      <td>0.068169</td>\n",
              "      <td>0.401888</td>\n",
              "      <td>1.416503</td>\n",
              "      <td>-0.316680</td>\n",
              "      <td>-0.230056</td>\n",
              "      <td>-0.175235</td>\n",
              "      <td>-0.297185</td>\n",
              "      <td>-0.989033</td>\n",
              "      <td>-0.491271</td>\n",
              "      <td>0.158618</td>\n",
              "      <td>0.122197</td>\n",
              "      <td>1.001380</td>\n",
              "      <td>0.885777</td>\n",
              "      <td>-0.208292</td>\n",
              "      <td>1</td>\n",
              "      <td>0</td>\n",
              "      <td>0</td>\n",
              "      <td>0</td>\n",
              "      <td>0</td>\n",
              "      <td>0</td>\n",
              "      <td>0</td>\n",
              "      <td>0</td>\n",
              "      <td>0</td>\n",
              "      <td>0</td>\n",
              "      <td>0</td>\n",
              "      <td>0</td>\n",
              "      <td>0</td>\n",
              "      <td>1</td>\n",
              "      <td>0</td>\n",
              "      <td>0</td>\n",
              "      <td>0</td>\n",
              "      <td>0</td>\n",
              "      <td>1</td>\n",
              "    </tr>\n",
              "    <tr>\n",
              "      <th>4</th>\n",
              "      <td>-0.835905</td>\n",
              "      <td>-0.807374</td>\n",
              "      <td>-1.105740</td>\n",
              "      <td>-0.553785</td>\n",
              "      <td>-0.523047</td>\n",
              "      <td>-0.230056</td>\n",
              "      <td>1.143865</td>\n",
              "      <td>-0.297185</td>\n",
              "      <td>-0.731177</td>\n",
              "      <td>-0.342002</td>\n",
              "      <td>-0.069888</td>\n",
              "      <td>1.994978</td>\n",
              "      <td>-0.321336</td>\n",
              "      <td>0.740414</td>\n",
              "      <td>-0.208292</td>\n",
              "      <td>1</td>\n",
              "      <td>0</td>\n",
              "      <td>0</td>\n",
              "      <td>0</td>\n",
              "      <td>0</td>\n",
              "      <td>0</td>\n",
              "      <td>0</td>\n",
              "      <td>0</td>\n",
              "      <td>0</td>\n",
              "      <td>0</td>\n",
              "      <td>0</td>\n",
              "      <td>0</td>\n",
              "      <td>0</td>\n",
              "      <td>0</td>\n",
              "      <td>0</td>\n",
              "      <td>0</td>\n",
              "      <td>0</td>\n",
              "      <td>0</td>\n",
              "      <td>1</td>\n",
              "    </tr>\n",
              "  </tbody>\n",
              "</table>\n",
              "</div>"
            ],
            "text/plain": [
              "   loan_amnt  installment  int_rate  ...  vacation  Not Verified  Source Verified\n",
              "0  -0.835905    -0.776681 -0.364063  ...         0             0                0\n",
              "1  -1.174480    -1.270068  0.881956  ...         0             0                1\n",
              "2  -1.188022    -1.152755  1.068050  ...         0             1                0\n",
              "3  -0.158755     0.068169  0.401888  ...         0             0                1\n",
              "4  -0.835905    -0.807374 -1.105740  ...         0             0                1\n",
              "\n",
              "[5 rows x 34 columns]"
            ]
          },
          "metadata": {
            "tags": []
          },
          "execution_count": 119
        }
      ]
    },
    {
      "cell_type": "code",
      "metadata": {
        "id": "F3mGHPoYxd_N"
      },
      "source": [
        "X_train, X_test, y_train, y_test = train_test_split(X, y, test_size=0.2, random_state=10)\r\n",
        "y_test=list(y_test)"
      ],
      "execution_count": null,
      "outputs": []
    },
    {
      "cell_type": "code",
      "metadata": {
        "colab": {
          "base_uri": "https://localhost:8080/",
          "height": 239
        },
        "id": "P_s6Lv6pxeUg",
        "outputId": "3aa5c9ee-49c0-4fd0-9b72-72c5487d2abc"
      },
      "source": [
        "X_train.head()"
      ],
      "execution_count": null,
      "outputs": [
        {
          "output_type": "execute_result",
          "data": {
            "text/html": [
              "<div>\n",
              "<style scoped>\n",
              "    .dataframe tbody tr th:only-of-type {\n",
              "        vertical-align: middle;\n",
              "    }\n",
              "\n",
              "    .dataframe tbody tr th {\n",
              "        vertical-align: top;\n",
              "    }\n",
              "\n",
              "    .dataframe thead th {\n",
              "        text-align: right;\n",
              "    }\n",
              "</style>\n",
              "<table border=\"1\" class=\"dataframe\">\n",
              "  <thead>\n",
              "    <tr style=\"text-align: right;\">\n",
              "      <th></th>\n",
              "      <th>loan_amnt</th>\n",
              "      <th>installment</th>\n",
              "      <th>int_rate</th>\n",
              "      <th>emp_length</th>\n",
              "      <th>annual_inc</th>\n",
              "      <th>pub_rec</th>\n",
              "      <th>earliest_cr_line</th>\n",
              "      <th>delinq_2yrs</th>\n",
              "      <th>revol_util</th>\n",
              "      <th>revol_bal</th>\n",
              "      <th>open_acc</th>\n",
              "      <th>inq_last_6mths</th>\n",
              "      <th>dti</th>\n",
              "      <th>last_credit_pull_d</th>\n",
              "      <th>pub_rec_bankruptcies</th>\n",
              "      <th>36 months</th>\n",
              "      <th>MORTGAGE</th>\n",
              "      <th>OTHER</th>\n",
              "      <th>OWN</th>\n",
              "      <th>car</th>\n",
              "      <th>credit_card</th>\n",
              "      <th>debt_consolidation</th>\n",
              "      <th>educational</th>\n",
              "      <th>home_improvement</th>\n",
              "      <th>house</th>\n",
              "      <th>major_purchase</th>\n",
              "      <th>medical</th>\n",
              "      <th>moving</th>\n",
              "      <th>other</th>\n",
              "      <th>renewable_energy</th>\n",
              "      <th>small_business</th>\n",
              "      <th>vacation</th>\n",
              "      <th>Not Verified</th>\n",
              "      <th>Source Verified</th>\n",
              "    </tr>\n",
              "  </thead>\n",
              "  <tbody>\n",
              "    <tr>\n",
              "      <th>30450</th>\n",
              "      <td>-0.944249</td>\n",
              "      <td>-0.930912</td>\n",
              "      <td>-1.210924</td>\n",
              "      <td>-0.835255</td>\n",
              "      <td>-0.460512</td>\n",
              "      <td>-0.230056</td>\n",
              "      <td>0.967627</td>\n",
              "      <td>-0.297185</td>\n",
              "      <td>0.462731</td>\n",
              "      <td>-0.730921</td>\n",
              "      <td>-0.755407</td>\n",
              "      <td>1.058587</td>\n",
              "      <td>0.335513</td>\n",
              "      <td>-0.620563</td>\n",
              "      <td>-0.208292</td>\n",
              "      <td>1</td>\n",
              "      <td>0</td>\n",
              "      <td>0</td>\n",
              "      <td>0</td>\n",
              "      <td>0</td>\n",
              "      <td>0</td>\n",
              "      <td>0</td>\n",
              "      <td>0</td>\n",
              "      <td>0</td>\n",
              "      <td>0</td>\n",
              "      <td>1</td>\n",
              "      <td>0</td>\n",
              "      <td>0</td>\n",
              "      <td>0</td>\n",
              "      <td>0</td>\n",
              "      <td>0</td>\n",
              "      <td>0</td>\n",
              "      <td>1</td>\n",
              "      <td>0</td>\n",
              "    </tr>\n",
              "    <tr>\n",
              "      <th>5820</th>\n",
              "      <td>-0.903620</td>\n",
              "      <td>-0.882311</td>\n",
              "      <td>-1.105740</td>\n",
              "      <td>-0.835255</td>\n",
              "      <td>-0.226004</td>\n",
              "      <td>-0.230056</td>\n",
              "      <td>0.540859</td>\n",
              "      <td>-0.297185</td>\n",
              "      <td>-1.374051</td>\n",
              "      <td>-0.758187</td>\n",
              "      <td>0.158618</td>\n",
              "      <td>-0.814193</td>\n",
              "      <td>-1.604971</td>\n",
              "      <td>0.496013</td>\n",
              "      <td>-0.208292</td>\n",
              "      <td>1</td>\n",
              "      <td>0</td>\n",
              "      <td>0</td>\n",
              "      <td>0</td>\n",
              "      <td>0</td>\n",
              "      <td>0</td>\n",
              "      <td>0</td>\n",
              "      <td>0</td>\n",
              "      <td>0</td>\n",
              "      <td>0</td>\n",
              "      <td>0</td>\n",
              "      <td>0</td>\n",
              "      <td>0</td>\n",
              "      <td>0</td>\n",
              "      <td>0</td>\n",
              "      <td>1</td>\n",
              "      <td>0</td>\n",
              "      <td>0</td>\n",
              "      <td>1</td>\n",
              "    </tr>\n",
              "    <tr>\n",
              "      <th>18938</th>\n",
              "      <td>0.518395</td>\n",
              "      <td>0.748589</td>\n",
              "      <td>-0.639158</td>\n",
              "      <td>0.853564</td>\n",
              "      <td>-0.132264</td>\n",
              "      <td>-0.230056</td>\n",
              "      <td>-1.055186</td>\n",
              "      <td>-0.297185</td>\n",
              "      <td>-0.639338</td>\n",
              "      <td>2.847932</td>\n",
              "      <td>1.072643</td>\n",
              "      <td>-0.814193</td>\n",
              "      <td>0.673707</td>\n",
              "      <td>-0.376162</td>\n",
              "      <td>-0.208292</td>\n",
              "      <td>1</td>\n",
              "      <td>1</td>\n",
              "      <td>0</td>\n",
              "      <td>0</td>\n",
              "      <td>0</td>\n",
              "      <td>0</td>\n",
              "      <td>0</td>\n",
              "      <td>0</td>\n",
              "      <td>0</td>\n",
              "      <td>0</td>\n",
              "      <td>0</td>\n",
              "      <td>0</td>\n",
              "      <td>0</td>\n",
              "      <td>1</td>\n",
              "      <td>0</td>\n",
              "      <td>0</td>\n",
              "      <td>0</td>\n",
              "      <td>0</td>\n",
              "      <td>1</td>\n",
              "    </tr>\n",
              "    <tr>\n",
              "      <th>16295</th>\n",
              "      <td>-0.903620</td>\n",
              "      <td>-0.833805</td>\n",
              "      <td>0.183431</td>\n",
              "      <td>-0.553785</td>\n",
              "      <td>0.712026</td>\n",
              "      <td>-0.230056</td>\n",
              "      <td>-1.959488</td>\n",
              "      <td>11.903252</td>\n",
              "      <td>-0.628741</td>\n",
              "      <td>-0.478458</td>\n",
              "      <td>1.301149</td>\n",
              "      <td>-0.814193</td>\n",
              "      <td>-0.244678</td>\n",
              "      <td>0.933698</td>\n",
              "      <td>-0.208292</td>\n",
              "      <td>1</td>\n",
              "      <td>1</td>\n",
              "      <td>0</td>\n",
              "      <td>0</td>\n",
              "      <td>0</td>\n",
              "      <td>0</td>\n",
              "      <td>0</td>\n",
              "      <td>0</td>\n",
              "      <td>0</td>\n",
              "      <td>0</td>\n",
              "      <td>1</td>\n",
              "      <td>0</td>\n",
              "      <td>0</td>\n",
              "      <td>0</td>\n",
              "      <td>0</td>\n",
              "      <td>0</td>\n",
              "      <td>0</td>\n",
              "      <td>0</td>\n",
              "      <td>0</td>\n",
              "    </tr>\n",
              "    <tr>\n",
              "      <th>28941</th>\n",
              "      <td>-0.429615</td>\n",
              "      <td>-0.257005</td>\n",
              "      <td>0.399191</td>\n",
              "      <td>-0.272316</td>\n",
              "      <td>-0.147835</td>\n",
              "      <td>-0.230056</td>\n",
              "      <td>1.369218</td>\n",
              "      <td>-0.297185</td>\n",
              "      <td>-0.960775</td>\n",
              "      <td>-0.709714</td>\n",
              "      <td>-0.298394</td>\n",
              "      <td>1.994978</td>\n",
              "      <td>-0.537780</td>\n",
              "      <td>0.983218</td>\n",
              "      <td>-0.208292</td>\n",
              "      <td>1</td>\n",
              "      <td>0</td>\n",
              "      <td>0</td>\n",
              "      <td>0</td>\n",
              "      <td>0</td>\n",
              "      <td>0</td>\n",
              "      <td>1</td>\n",
              "      <td>0</td>\n",
              "      <td>0</td>\n",
              "      <td>0</td>\n",
              "      <td>0</td>\n",
              "      <td>0</td>\n",
              "      <td>0</td>\n",
              "      <td>0</td>\n",
              "      <td>0</td>\n",
              "      <td>0</td>\n",
              "      <td>0</td>\n",
              "      <td>0</td>\n",
              "      <td>0</td>\n",
              "    </tr>\n",
              "  </tbody>\n",
              "</table>\n",
              "</div>"
            ],
            "text/plain": [
              "       loan_amnt  installment  ...  Not Verified  Source Verified\n",
              "30450  -0.944249    -0.930912  ...             1                0\n",
              "5820   -0.903620    -0.882311  ...             0                1\n",
              "18938   0.518395     0.748589  ...             0                1\n",
              "16295  -0.903620    -0.833805  ...             0                0\n",
              "28941  -0.429615    -0.257005  ...             0                0\n",
              "\n",
              "[5 rows x 34 columns]"
            ]
          },
          "metadata": {
            "tags": []
          },
          "execution_count": 121
        }
      ]
    },
    {
      "cell_type": "code",
      "metadata": {
        "colab": {
          "base_uri": "https://localhost:8080/"
        },
        "id": "Feu22fQgxeXh",
        "outputId": "2b0dbd64-f199-4ce9-cb77-80d04be4be06"
      },
      "source": [
        "print(y_train.value_counts())\r\n",
        "y_train_for_smote=[i for i in y_train]\r\n",
        "X_train_resampled, y_train_resampled = SMOTE().fit_sample(X_train, y_train_for_smote) \r\n",
        "print(pd.Series(y_train_resampled).value_counts()) \r\n",
        "y_train_resampled=list(y_train_resampled)\r\n",
        "y_train=list(y_train)"
      ],
      "execution_count": null,
      "outputs": [
        {
          "output_type": "stream",
          "text": [
            "0    25392\n",
            "1     4199\n",
            "Name: loan_status, dtype: int64\n",
            "1    25392\n",
            "0    25392\n",
            "dtype: int64\n"
          ],
          "name": "stdout"
        }
      ]
    },
    {
      "cell_type": "code",
      "metadata": {
        "colab": {
          "base_uri": "https://localhost:8080/"
        },
        "id": "ovgtK81cxeZk",
        "outputId": "a3167729-9fb2-4a31-d720-ba9aad711184"
      },
      "source": [
        "model=LogisticRegression()\r\n",
        "model.fit(X_train_resampled,y_train_resampled)\r\n"
      ],
      "execution_count": null,
      "outputs": [
        {
          "output_type": "execute_result",
          "data": {
            "text/plain": [
              "LogisticRegression(C=1.0, class_weight=None, dual=False, fit_intercept=True,\n",
              "                   intercept_scaling=1, l1_ratio=None, max_iter=100,\n",
              "                   multi_class='auto', n_jobs=None, penalty='l2',\n",
              "                   random_state=None, solver='lbfgs', tol=0.0001, verbose=0,\n",
              "                   warm_start=False)"
            ]
          },
          "metadata": {
            "tags": []
          },
          "execution_count": 123
        }
      ]
    },
    {
      "cell_type": "code",
      "metadata": {
        "id": "8ADScEBBxeb2"
      },
      "source": [
        "y_pred=model.predict(X_test)\r\n"
      ],
      "execution_count": null,
      "outputs": []
    },
    {
      "cell_type": "code",
      "metadata": {
        "colab": {
          "base_uri": "https://localhost:8080/",
          "height": 361
        },
        "id": "ykKARi74xefN",
        "outputId": "a27a9045-a2ca-4903-f26b-6410627a30a0"
      },
      "source": [
        "cnf_matrix = confusion_matrix(y_test, y_pred)\r\n",
        "plot_confusion_matrix(cnf_matrix, classes=[0,1])"
      ],
      "execution_count": null,
      "outputs": [
        {
          "output_type": "stream",
          "text": [
            "Confusion matrix, without normalization\n",
            "[[4224 2101]\n",
            " [ 377  696]]\n"
          ],
          "name": "stdout"
        },
        {
          "output_type": "display_data",
          "data": {
            "image/png": "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\n",
            "text/plain": [
              "<Figure size 432x288 with 2 Axes>"
            ]
          },
          "metadata": {
            "tags": []
          }
        }
      ]
    },
    {
      "cell_type": "code",
      "metadata": {
        "colab": {
          "base_uri": "https://localhost:8080/"
        },
        "id": "rbehViigxeh8",
        "outputId": "4633d524-f220-41f5-8412-4332958e2365"
      },
      "source": [
        "perf(y_test,y_pred)\r\n"
      ],
      "execution_count": null,
      "outputs": [
        {
          "output_type": "stream",
          "text": [
            "65.0 % of the positives are appropriately identified, and  33.0 % of the negatives are appropriately identified.\n"
          ],
          "name": "stdout"
        }
      ]
    },
    {
      "cell_type": "code",
      "metadata": {
        "colab": {
          "base_uri": "https://localhost:8080/",
          "height": 546
        },
        "id": "NjJ0yqOdxelf",
        "outputId": "ad4e63f8-0f7e-4bf4-a30a-d7b8b5dab20d"
      },
      "source": [
        "rocurve(model, X_train_resampled, X_test, y_train_resampled, y_test)\r\n"
      ],
      "execution_count": null,
      "outputs": [
        {
          "output_type": "stream",
          "text": [
            "Test AUC: 0.7142587919799314\n",
            "train AUC: 0.7192786933894804\n"
          ],
          "name": "stdout"
        },
        {
          "output_type": "display_data",
          "data": {
            "image/png": "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\n",
            "text/plain": [
              "<Figure size 720x576 with 1 Axes>"
            ]
          },
          "metadata": {
            "tags": []
          }
        }
      ]
    },
    {
      "cell_type": "code",
      "metadata": {
        "colab": {
          "base_uri": "https://localhost:8080/"
        },
        "id": "MdoQnBqExepw",
        "outputId": "dada4652-915c-4b8c-874c-5faa867ed847"
      },
      "source": [
        "min_comps=find_min_pca(X_train_resampled,0.9)\r\n",
        "min_comps"
      ],
      "execution_count": null,
      "outputs": [
        {
          "output_type": "execute_result",
          "data": {
            "text/plain": [
              "13"
            ]
          },
          "metadata": {
            "tags": []
          },
          "execution_count": 128
        }
      ]
    },
    {
      "cell_type": "code",
      "metadata": {
        "colab": {
          "base_uri": "https://localhost:8080/"
        },
        "id": "7P5785rhxetG",
        "outputId": "410311df-5518-40b9-ed4c-a081b06382ac"
      },
      "source": [
        "pca = PCA(n_components=min_comps)\r\n",
        "principalComponents = pca.fit_transform(X_train_resampled)\r\n",
        "print(np.sum(pca.explained_variance_ratio_))"
      ],
      "execution_count": null,
      "outputs": [
        {
          "output_type": "stream",
          "text": [
            "0.9059802042670192\n"
          ],
          "name": "stdout"
        }
      ]
    },
    {
      "cell_type": "code",
      "metadata": {
        "id": "mWvcmAQrxevx"
      },
      "source": [
        "model= Pipeline([('pca', PCA(n_components= min_comps)),('clf', svm.SVC(random_state=123))])\r\n",
        "model.fit(X_train_resampled, y_train_resampled)\r\n",
        "y_pred=model.predict(X_test)\r\n"
      ],
      "execution_count": null,
      "outputs": []
    },
    {
      "cell_type": "code",
      "metadata": {
        "colab": {
          "base_uri": "https://localhost:8080/",
          "height": 361
        },
        "id": "kxDMyn4yxeyC",
        "outputId": "94c84252-cd7b-4ec0-8546-dee097a992f1"
      },
      "source": [
        "cnf_matrix = confusion_matrix(y_test, y_pred)\r\n",
        "plot_confusion_matrix(cnf_matrix, classes=[0,1])\r\n"
      ],
      "execution_count": null,
      "outputs": [
        {
          "output_type": "stream",
          "text": [
            "Confusion matrix, without normalization\n",
            "[[4493 1832]\n",
            " [ 429  644]]\n"
          ],
          "name": "stdout"
        },
        {
          "output_type": "display_data",
          "data": {
            "image/png": "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\n",
            "text/plain": [
              "<Figure size 432x288 with 2 Axes>"
            ]
          },
          "metadata": {
            "tags": []
          }
        }
      ]
    },
    {
      "cell_type": "code",
      "metadata": {
        "colab": {
          "base_uri": "https://localhost:8080/"
        },
        "id": "sylaGiZxxe1x",
        "outputId": "8bbfab18-f252-4643-a093-c1ab9e26c4a2"
      },
      "source": [
        "perf(y_test,y_pred)"
      ],
      "execution_count": null,
      "outputs": [
        {
          "output_type": "stream",
          "text": [
            "60.0 % of the positives are appropriately identified, and  28.999999999999996 % of the negatives are appropriately identified.\n"
          ],
          "name": "stdout"
        }
      ]
    },
    {
      "cell_type": "code",
      "metadata": {
        "id": "l94iFcIhybNH"
      },
      "source": [
        "model=RandomForestClassifier()\r\n",
        "model.fit(X_train_resampled, y_train_resampled)\r\n",
        "y_pred=model.predict(X_test)"
      ],
      "execution_count": null,
      "outputs": []
    },
    {
      "cell_type": "code",
      "metadata": {
        "colab": {
          "base_uri": "https://localhost:8080/",
          "height": 361
        },
        "id": "PTRiNRrfybQg",
        "outputId": "db619ac6-55f3-4e5f-84b4-60bd6b6458ec"
      },
      "source": [
        "cnf_matrix = confusion_matrix(y_test, y_pred)\r\n",
        "plot_confusion_matrix(cnf_matrix, classes=[0,1])"
      ],
      "execution_count": null,
      "outputs": [
        {
          "output_type": "stream",
          "text": [
            "Confusion matrix, without normalization\n",
            "[[6124  201]\n",
            " [ 899  174]]\n"
          ],
          "name": "stdout"
        },
        {
          "output_type": "display_data",
          "data": {
            "image/png": "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\n",
            "text/plain": [
              "<Figure size 432x288 with 2 Axes>"
            ]
          },
          "metadata": {
            "tags": []
          }
        }
      ]
    },
    {
      "cell_type": "code",
      "metadata": {
        "colab": {
          "base_uri": "https://localhost:8080/"
        },
        "id": "ajQTgtTWybT3",
        "outputId": "e0ac341c-d081-4181-9a0f-fa48e5c1abd9"
      },
      "source": [
        "perf(y_test,y_pred)"
      ],
      "execution_count": null,
      "outputs": [
        {
          "output_type": "stream",
          "text": [
            "16.0 % of the positives are appropriately identified, and  3.0 % of the negatives are appropriately identified.\n"
          ],
          "name": "stdout"
        }
      ]
    },
    {
      "cell_type": "code",
      "metadata": {
        "colab": {
          "base_uri": "https://localhost:8080/",
          "height": 497
        },
        "id": "hYidTQPdybaH",
        "outputId": "49f2d0d4-d187-4123-bfb6-39b6e1aeb7b6"
      },
      "source": [
        "plot_feature_importances(model,X_train)"
      ],
      "execution_count": null,
      "outputs": [
        {
          "output_type": "display_data",
          "data": {
            "image/png": "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\n",
            "text/plain": [
              "<Figure size 576x576 with 1 Axes>"
            ]
          },
          "metadata": {
            "tags": []
          }
        }
      ]
    },
    {
      "cell_type": "code",
      "metadata": {
        "id": "U0h97_jkybdI"
      },
      "source": [
        "import xgboost as xgb\r\n",
        "from sklearn.model_selection import GridSearchCV"
      ],
      "execution_count": null,
      "outputs": []
    },
    {
      "cell_type": "code",
      "metadata": {
        "colab": {
          "base_uri": "https://localhost:8080/"
        },
        "id": "WGeU24m4ybgS",
        "outputId": "aba346d5-34c6-46e3-ca06-9a2120f50e72"
      },
      "source": [
        "model = xgb.XGBClassifier()\r\n",
        "model.fit(X_train_resampled, y_train_resampled)\r\n",
        "training_preds = model.predict(X_train_resampled)\r\n",
        "X_test2=np.array(X_test)\r\n",
        "y_pred = model.predict(X_test2)\r\n",
        "training_accuracy = accuracy_score(y_train_resampled, training_preds)\r\n",
        "val_accuracy = accuracy_score(y_test, y_pred)\r\n",
        "\r\n",
        "print(\"Training Accuracy: {:.4}%\".format(training_accuracy * 100))\r\n",
        "print(\"Validation accuracy: {:.4}%\".format(val_accuracy * 100))\r\n",
        "perf(y_test,y_pred)\r\n"
      ],
      "execution_count": null,
      "outputs": [
        {
          "output_type": "stream",
          "text": [
            "Training Accuracy: 87.78%\n",
            "Validation accuracy: 84.16%\n",
            "25.0 % of the positives are appropriately identified, and  6.0 % of the negatives are appropriately identified.\n"
          ],
          "name": "stdout"
        }
      ]
    },
    {
      "cell_type": "code",
      "metadata": {
        "id": "gHFxLP1Cybin"
      },
      "source": [
        "param_grid = {\r\n",
        "    \"learning_rate\": [0.1],\r\n",
        "    'max_depth': [6,8],\r\n",
        "    'min_child_weight': [7,8,10],\r\n",
        "    'subsample': [ 0.7,0.9],\r\n",
        "    'n_estimators': [5, 30, 100, 250],\r\n",
        "}"
      ],
      "execution_count": null,
      "outputs": []
    },
    {
      "cell_type": "code",
      "metadata": {
        "colab": {
          "base_uri": "https://localhost:8080/",
          "height": 361
        },
        "id": "AllIgYm6ybqq",
        "outputId": "63876b7d-3422-43ec-bf79-ae66d054b123"
      },
      "source": [
        "cnf_matrix = confusion_matrix(y_test, y_pred)\r\n",
        "plot_confusion_matrix(cnf_matrix, classes=[0,1])"
      ],
      "execution_count": null,
      "outputs": [
        {
          "output_type": "stream",
          "text": [
            "Confusion matrix, without normalization\n",
            "[[5954  371]\n",
            " [ 801  272]]\n"
          ],
          "name": "stdout"
        },
        {
          "output_type": "display_data",
          "data": {
            "image/png": "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\n",
            "text/plain": [
              "<Figure size 432x288 with 2 Axes>"
            ]
          },
          "metadata": {
            "tags": []
          }
        }
      ]
    },
    {
      "cell_type": "code",
      "metadata": {
        "colab": {
          "base_uri": "https://localhost:8080/"
        },
        "id": "pibitYfgybts",
        "outputId": "5659d060-5e6f-41de-c800-bcabd67dfc6c"
      },
      "source": [
        "perf(y_test, y_pred)"
      ],
      "execution_count": null,
      "outputs": [
        {
          "output_type": "stream",
          "text": [
            "25.0 % of the positives are appropriately identified, and  6.0 % of the negatives are appropriately identified.\n"
          ],
          "name": "stdout"
        }
      ]
    },
    {
      "cell_type": "code",
      "metadata": {
        "colab": {
          "base_uri": "https://localhost:8080/",
          "height": 497
        },
        "id": "vZw01-ihybwN",
        "outputId": "0ef55d4b-49a8-4c0c-dd4d-30622bf36562"
      },
      "source": [
        "plot_feature_importances(model,X_train)\r\n"
      ],
      "execution_count": null,
      "outputs": [
        {
          "output_type": "display_data",
          "data": {
            "image/png": "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\n",
            "text/plain": [
              "<Figure size 576x576 with 1 Axes>"
            ]
          },
          "metadata": {
            "tags": []
          }
        }
      ]
    }
  ]
}

Conclusion
The logistic regression model gives us the best results by identifying 65% of the loans that won't be repaid but the downside is that the lender will only fund 34% of the loans that will be paid off.

Interest rate, date of last credit pull and length of the loan are the most important features in determining if a borrower will default

Next Steps
Work on class imbalance to improve predicting power of the model
Determine levels of interest rates insuring profitability despites undetected defaults
Optimize Random Forest Hyperparameters to improve model
